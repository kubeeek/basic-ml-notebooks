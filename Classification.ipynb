{
  "cells": [
    {
      "cell_type": "markdown",
      "metadata": {},
      "source": [
        "# Sentiment Analysis - binary classification"
      ]
    },
    {
      "cell_type": "markdown",
      "metadata": {},
      "source": [
        "## Introduction"
      ]
    },
    {
      "cell_type": "markdown",
      "metadata": {
        "id": "mtSPXyejF7Hq"
      },
      "source": [
        "We are going to perform a simple classification of the amazon reviews' sentiment."
      ]
    },
    {
      "cell_type": "code",
      "execution_count": 164,
      "metadata": {
        "colab": {
          "base_uri": "https://localhost:8080/",
          "height": 206
        },
        "id": "Z0rAsw5mF7H6",
        "outputId": "6f9d628a-f529-46ae-ad78-3c0eb0134930"
      },
      "outputs": [
        {
          "data": {
            "text/html": [
              "\n",
              "  <div id=\"df-cd89cf33-c18c-4b24-9f11-aaaae4931760\">\n",
              "    <div class=\"colab-df-container\">\n",
              "      <div>\n",
              "<style scoped>\n",
              "    .dataframe tbody tr th:only-of-type {\n",
              "        vertical-align: middle;\n",
              "    }\n",
              "\n",
              "    .dataframe tbody tr th {\n",
              "        vertical-align: top;\n",
              "    }\n",
              "\n",
              "    .dataframe thead th {\n",
              "        text-align: right;\n",
              "    }\n",
              "</style>\n",
              "<table border=\"1\" class=\"dataframe\">\n",
              "  <thead>\n",
              "    <tr style=\"text-align: right;\">\n",
              "      <th></th>\n",
              "      <th>name</th>\n",
              "      <th>review</th>\n",
              "      <th>rating</th>\n",
              "    </tr>\n",
              "  </thead>\n",
              "  <tbody>\n",
              "    <tr>\n",
              "      <th>0</th>\n",
              "      <td>Planetwise Flannel Wipes</td>\n",
              "      <td>These flannel wipes are OK, but in my opinion ...</td>\n",
              "      <td>3</td>\n",
              "    </tr>\n",
              "    <tr>\n",
              "      <th>1</th>\n",
              "      <td>Planetwise Wipe Pouch</td>\n",
              "      <td>it came early and was not disappointed. i love...</td>\n",
              "      <td>5</td>\n",
              "    </tr>\n",
              "    <tr>\n",
              "      <th>2</th>\n",
              "      <td>Annas Dream Full Quilt with 2 Shams</td>\n",
              "      <td>Very soft and comfortable and warmer than it l...</td>\n",
              "      <td>5</td>\n",
              "    </tr>\n",
              "    <tr>\n",
              "      <th>3</th>\n",
              "      <td>Stop Pacifier Sucking without tears with Thumb...</td>\n",
              "      <td>This is a product well worth the purchase.  I ...</td>\n",
              "      <td>5</td>\n",
              "    </tr>\n",
              "    <tr>\n",
              "      <th>4</th>\n",
              "      <td>Stop Pacifier Sucking without tears with Thumb...</td>\n",
              "      <td>All of my kids have cried non-stop when I trie...</td>\n",
              "      <td>5</td>\n",
              "    </tr>\n",
              "  </tbody>\n",
              "</table>\n",
              "</div>\n",
              "      <button class=\"colab-df-convert\" onclick=\"convertToInteractive('df-cd89cf33-c18c-4b24-9f11-aaaae4931760')\"\n",
              "              title=\"Convert this dataframe to an interactive table.\"\n",
              "              style=\"display:none;\">\n",
              "        \n",
              "  <svg xmlns=\"http://www.w3.org/2000/svg\" height=\"24px\"viewBox=\"0 0 24 24\"\n",
              "       width=\"24px\">\n",
              "    <path d=\"M0 0h24v24H0V0z\" fill=\"none\"/>\n",
              "    <path d=\"M18.56 5.44l.94 2.06.94-2.06 2.06-.94-2.06-.94-.94-2.06-.94 2.06-2.06.94zm-11 1L8.5 8.5l.94-2.06 2.06-.94-2.06-.94L8.5 2.5l-.94 2.06-2.06.94zm10 10l.94 2.06.94-2.06 2.06-.94-2.06-.94-.94-2.06-.94 2.06-2.06.94z\"/><path d=\"M17.41 7.96l-1.37-1.37c-.4-.4-.92-.59-1.43-.59-.52 0-1.04.2-1.43.59L10.3 9.45l-7.72 7.72c-.78.78-.78 2.05 0 2.83L4 21.41c.39.39.9.59 1.41.59.51 0 1.02-.2 1.41-.59l7.78-7.78 2.81-2.81c.8-.78.8-2.07 0-2.86zM5.41 20L4 18.59l7.72-7.72 1.47 1.35L5.41 20z\"/>\n",
              "  </svg>\n",
              "      </button>\n",
              "      \n",
              "  <style>\n",
              "    .colab-df-container {\n",
              "      display:flex;\n",
              "      flex-wrap:wrap;\n",
              "      gap: 12px;\n",
              "    }\n",
              "\n",
              "    .colab-df-convert {\n",
              "      background-color: #E8F0FE;\n",
              "      border: none;\n",
              "      border-radius: 50%;\n",
              "      cursor: pointer;\n",
              "      display: none;\n",
              "      fill: #1967D2;\n",
              "      height: 32px;\n",
              "      padding: 0 0 0 0;\n",
              "      width: 32px;\n",
              "    }\n",
              "\n",
              "    .colab-df-convert:hover {\n",
              "      background-color: #E2EBFA;\n",
              "      box-shadow: 0px 1px 2px rgba(60, 64, 67, 0.3), 0px 1px 3px 1px rgba(60, 64, 67, 0.15);\n",
              "      fill: #174EA6;\n",
              "    }\n",
              "\n",
              "    [theme=dark] .colab-df-convert {\n",
              "      background-color: #3B4455;\n",
              "      fill: #D2E3FC;\n",
              "    }\n",
              "\n",
              "    [theme=dark] .colab-df-convert:hover {\n",
              "      background-color: #434B5C;\n",
              "      box-shadow: 0px 1px 3px 1px rgba(0, 0, 0, 0.15);\n",
              "      filter: drop-shadow(0px 1px 2px rgba(0, 0, 0, 0.3));\n",
              "      fill: #FFFFFF;\n",
              "    }\n",
              "  </style>\n",
              "\n",
              "      <script>\n",
              "        const buttonEl =\n",
              "          document.querySelector('#df-cd89cf33-c18c-4b24-9f11-aaaae4931760 button.colab-df-convert');\n",
              "        buttonEl.style.display =\n",
              "          google.colab.kernel.accessAllowed ? 'block' : 'none';\n",
              "\n",
              "        async function convertToInteractive(key) {\n",
              "          const element = document.querySelector('#df-cd89cf33-c18c-4b24-9f11-aaaae4931760');\n",
              "          const dataTable =\n",
              "            await google.colab.kernel.invokeFunction('convertToInteractive',\n",
              "                                                     [key], {});\n",
              "          if (!dataTable) return;\n",
              "\n",
              "          const docLinkHtml = 'Like what you see? Visit the ' +\n",
              "            '<a target=\"_blank\" href=https://colab.research.google.com/notebooks/data_table.ipynb>data table notebook</a>'\n",
              "            + ' to learn more about interactive tables.';\n",
              "          element.innerHTML = '';\n",
              "          dataTable['output_type'] = 'display_data';\n",
              "          await google.colab.output.renderOutput(dataTable, element);\n",
              "          const docLink = document.createElement('div');\n",
              "          docLink.innerHTML = docLinkHtml;\n",
              "          element.appendChild(docLink);\n",
              "        }\n",
              "      </script>\n",
              "    </div>\n",
              "  </div>\n",
              "  "
            ],
            "text/plain": [
              "                                                name  ... rating\n",
              "0                           Planetwise Flannel Wipes  ...      3\n",
              "1                              Planetwise Wipe Pouch  ...      5\n",
              "2                Annas Dream Full Quilt with 2 Shams  ...      5\n",
              "3  Stop Pacifier Sucking without tears with Thumb...  ...      5\n",
              "4  Stop Pacifier Sucking without tears with Thumb...  ...      5\n",
              "\n",
              "[5 rows x 3 columns]"
            ]
          },
          "execution_count": 164,
          "metadata": {},
          "output_type": "execute_result"
        }
      ],
      "source": [
        "import pandas as pd\n",
        "import numpy as np\n",
        "import matplotlib.pyplot as plt\n",
        "import string\n",
        "from sklearn.linear_model import LogisticRegression\n",
        "\n",
        "baby_df = pd.read_csv('amazon_baby.csv.zip')\n",
        "baby_df.head()"
      ]
    },
    {
      "cell_type": "markdown",
      "metadata": {
        "id": "Jelu_uOJF7IA"
      },
      "source": [
        "## Data preparation\n"
      ]
    },
    {
      "cell_type": "markdown",
      "metadata": {},
      "source": [
        "Steps we are going to do:\n",
        "\n",
        "1. Remove punctuation from reviews.   \n",
        "2. Replace all missing (nan) revies with empty \"\" string.  \n",
        "3. Drop all the entries with rating = 3, as they have neutral sentiment.   \n",
        "4. Set all positive ($\\geq$4) ratings to 1 and negative($\\leq$2) to -1."
      ]
    },
    {
      "cell_type": "code",
      "execution_count": null,
      "metadata": {},
      "outputs": [],
      "source": [
        "def remove_punctuation(text):\n",
        "    import string\n",
        "    translator = str.maketrans('', '', string.punctuation)\n",
        "    return text.translate(translator)"
      ]
    },
    {
      "cell_type": "markdown",
      "metadata": {},
      "source": [
        "### Dropping missing reviews"
      ]
    },
    {
      "cell_type": "code",
      "execution_count": null,
      "metadata": {
        "colab": {
          "base_uri": "https://localhost:8080/",
          "height": 50
        },
        "id": "0cBJrWukMggO",
        "outputId": "ad55a5c8-a82c-4abd-a526-2373509add0a"
      },
      "outputs": [
        {
          "data": {
            "text/html": [
              "\n",
              "  <div id=\"df-080e8666-a38b-436d-afa1-ebff391fc9c0\">\n",
              "    <div class=\"colab-df-container\">\n",
              "      <div>\n",
              "<style scoped>\n",
              "    .dataframe tbody tr th:only-of-type {\n",
              "        vertical-align: middle;\n",
              "    }\n",
              "\n",
              "    .dataframe tbody tr th {\n",
              "        vertical-align: top;\n",
              "    }\n",
              "\n",
              "    .dataframe thead th {\n",
              "        text-align: right;\n",
              "    }\n",
              "</style>\n",
              "<table border=\"1\" class=\"dataframe\">\n",
              "  <thead>\n",
              "    <tr style=\"text-align: right;\">\n",
              "      <th></th>\n",
              "      <th>name</th>\n",
              "      <th>review</th>\n",
              "      <th>rating</th>\n",
              "    </tr>\n",
              "  </thead>\n",
              "  <tbody>\n",
              "  </tbody>\n",
              "</table>\n",
              "</div>\n",
              "      <button class=\"colab-df-convert\" onclick=\"convertToInteractive('df-080e8666-a38b-436d-afa1-ebff391fc9c0')\"\n",
              "              title=\"Convert this dataframe to an interactive table.\"\n",
              "              style=\"display:none;\">\n",
              "        \n",
              "  <svg xmlns=\"http://www.w3.org/2000/svg\" height=\"24px\"viewBox=\"0 0 24 24\"\n",
              "       width=\"24px\">\n",
              "    <path d=\"M0 0h24v24H0V0z\" fill=\"none\"/>\n",
              "    <path d=\"M18.56 5.44l.94 2.06.94-2.06 2.06-.94-2.06-.94-.94-2.06-.94 2.06-2.06.94zm-11 1L8.5 8.5l.94-2.06 2.06-.94-2.06-.94L8.5 2.5l-.94 2.06-2.06.94zm10 10l.94 2.06.94-2.06 2.06-.94-2.06-.94-.94-2.06-.94 2.06-2.06.94z\"/><path d=\"M17.41 7.96l-1.37-1.37c-.4-.4-.92-.59-1.43-.59-.52 0-1.04.2-1.43.59L10.3 9.45l-7.72 7.72c-.78.78-.78 2.05 0 2.83L4 21.41c.39.39.9.59 1.41.59.51 0 1.02-.2 1.41-.59l7.78-7.78 2.81-2.81c.8-.78.8-2.07 0-2.86zM5.41 20L4 18.59l7.72-7.72 1.47 1.35L5.41 20z\"/>\n",
              "  </svg>\n",
              "      </button>\n",
              "      \n",
              "  <style>\n",
              "    .colab-df-container {\n",
              "      display:flex;\n",
              "      flex-wrap:wrap;\n",
              "      gap: 12px;\n",
              "    }\n",
              "\n",
              "    .colab-df-convert {\n",
              "      background-color: #E8F0FE;\n",
              "      border: none;\n",
              "      border-radius: 50%;\n",
              "      cursor: pointer;\n",
              "      display: none;\n",
              "      fill: #1967D2;\n",
              "      height: 32px;\n",
              "      padding: 0 0 0 0;\n",
              "      width: 32px;\n",
              "    }\n",
              "\n",
              "    .colab-df-convert:hover {\n",
              "      background-color: #E2EBFA;\n",
              "      box-shadow: 0px 1px 2px rgba(60, 64, 67, 0.3), 0px 1px 3px 1px rgba(60, 64, 67, 0.15);\n",
              "      fill: #174EA6;\n",
              "    }\n",
              "\n",
              "    [theme=dark] .colab-df-convert {\n",
              "      background-color: #3B4455;\n",
              "      fill: #D2E3FC;\n",
              "    }\n",
              "\n",
              "    [theme=dark] .colab-df-convert:hover {\n",
              "      background-color: #434B5C;\n",
              "      box-shadow: 0px 1px 3px 1px rgba(0, 0, 0, 0.15);\n",
              "      filter: drop-shadow(0px 1px 2px rgba(0, 0, 0, 0.3));\n",
              "      fill: #FFFFFF;\n",
              "    }\n",
              "  </style>\n",
              "\n",
              "      <script>\n",
              "        const buttonEl =\n",
              "          document.querySelector('#df-080e8666-a38b-436d-afa1-ebff391fc9c0 button.colab-df-convert');\n",
              "        buttonEl.style.display =\n",
              "          google.colab.kernel.accessAllowed ? 'block' : 'none';\n",
              "\n",
              "        async function convertToInteractive(key) {\n",
              "          const element = document.querySelector('#df-080e8666-a38b-436d-afa1-ebff391fc9c0');\n",
              "          const dataTable =\n",
              "            await google.colab.kernel.invokeFunction('convertToInteractive',\n",
              "                                                     [key], {});\n",
              "          if (!dataTable) return;\n",
              "\n",
              "          const docLinkHtml = 'Like what you see? Visit the ' +\n",
              "            '<a target=\"_blank\" href=https://colab.research.google.com/notebooks/data_table.ipynb>data table notebook</a>'\n",
              "            + ' to learn more about interactive tables.';\n",
              "          element.innerHTML = '';\n",
              "          dataTable['output_type'] = 'display_data';\n",
              "          await google.colab.output.renderOutput(dataTable, element);\n",
              "          const docLink = document.createElement('div');\n",
              "          docLink.innerHTML = docLinkHtml;\n",
              "          element.appendChild(docLink);\n",
              "        }\n",
              "      </script>\n",
              "    </div>\n",
              "  </div>\n",
              "  "
            ],
            "text/plain": [
              "Empty DataFrame\n",
              "Columns: [name, review, rating]\n",
              "Index: []"
            ]
          },
          "execution_count": 166,
          "metadata": {},
          "output_type": "execute_result"
        }
      ],
      "source": [
        "baby_df[baby_df[\"review\"].isna()] = \"\""
      ]
    },
    {
      "cell_type": "markdown",
      "metadata": {},
      "source": [
        "### Removing punctuation"
      ]
    },
    {
      "cell_type": "code",
      "execution_count": null,
      "metadata": {
        "colab": {
          "base_uri": "https://localhost:8080/"
        },
        "id": "0_6sD8jeF7ID",
        "outputId": "f015e8bd-651f-471b-8c4e-390b30075336"
      },
      "outputs": [
        {
          "data": {
            "text/plain": [
              "True"
            ]
          },
          "execution_count": 167,
          "metadata": {},
          "output_type": "execute_result"
        }
      ],
      "source": [
        "\n",
        "baby_df[\"review\"] = baby_df[\"review\"].apply(str).apply(remove_punctuation)"
      ]
    },
    {
      "cell_type": "markdown",
      "metadata": {},
      "source": [
        "### Dropping neutral reviews"
      ]
    },
    {
      "cell_type": "code",
      "execution_count": null,
      "metadata": {
        "colab": {
          "base_uri": "https://localhost:8080/"
        },
        "id": "e5237hYEF7IH",
        "outputId": "173ce384-b977-485b-bb1d-dd08ad727406"
      },
      "outputs": [
        {
          "data": {
            "text/plain": [
              "0"
            ]
          },
          "execution_count": 169,
          "metadata": {},
          "output_type": "execute_result"
        }
      ],
      "source": [
        "baby_df = baby_df[baby_df[\"rating\"] != 3]\n",
        "\n",
        "# Test:\n",
        "sum(baby_df[\"rating\"] == 3)"
      ]
    },
    {
      "cell_type": "markdown",
      "metadata": {},
      "source": [
        "### Mapping reviews to either 1 (positive) or -1 (negative)"
      ]
    },
    {
      "cell_type": "code",
      "execution_count": 171,
      "metadata": {
        "id": "W1opUqwARC16"
      },
      "outputs": [],
      "source": [
        "baby_df[\"rating\"] = baby_df[\"rating\"].astype(int)"
      ]
    },
    {
      "cell_type": "code",
      "execution_count": null,
      "metadata": {
        "colab": {
          "base_uri": "https://localhost:8080/",
          "height": 300
        },
        "id": "IpePpl8DRnQd",
        "outputId": "860c9f28-3926-45b7-ae49-f8d707c14eee"
      },
      "outputs": [
        {
          "data": {
            "text/html": [
              "\n",
              "  <div id=\"df-f4197812-8334-4b27-9273-a98ee3326633\">\n",
              "    <div class=\"colab-df-container\">\n",
              "      <div>\n",
              "<style scoped>\n",
              "    .dataframe tbody tr th:only-of-type {\n",
              "        vertical-align: middle;\n",
              "    }\n",
              "\n",
              "    .dataframe tbody tr th {\n",
              "        vertical-align: top;\n",
              "    }\n",
              "\n",
              "    .dataframe thead th {\n",
              "        text-align: right;\n",
              "    }\n",
              "</style>\n",
              "<table border=\"1\" class=\"dataframe\">\n",
              "  <thead>\n",
              "    <tr style=\"text-align: right;\">\n",
              "      <th></th>\n",
              "      <th>rating</th>\n",
              "    </tr>\n",
              "  </thead>\n",
              "  <tbody>\n",
              "    <tr>\n",
              "      <th>count</th>\n",
              "      <td>165975.000000</td>\n",
              "    </tr>\n",
              "    <tr>\n",
              "      <th>mean</th>\n",
              "      <td>0.681964</td>\n",
              "    </tr>\n",
              "    <tr>\n",
              "      <th>std</th>\n",
              "      <td>0.731388</td>\n",
              "    </tr>\n",
              "    <tr>\n",
              "      <th>min</th>\n",
              "      <td>-1.000000</td>\n",
              "    </tr>\n",
              "    <tr>\n",
              "      <th>25%</th>\n",
              "      <td>1.000000</td>\n",
              "    </tr>\n",
              "    <tr>\n",
              "      <th>50%</th>\n",
              "      <td>1.000000</td>\n",
              "    </tr>\n",
              "    <tr>\n",
              "      <th>75%</th>\n",
              "      <td>1.000000</td>\n",
              "    </tr>\n",
              "    <tr>\n",
              "      <th>max</th>\n",
              "      <td>1.000000</td>\n",
              "    </tr>\n",
              "  </tbody>\n",
              "</table>\n",
              "</div>\n",
              "      <button class=\"colab-df-convert\" onclick=\"convertToInteractive('df-f4197812-8334-4b27-9273-a98ee3326633')\"\n",
              "              title=\"Convert this dataframe to an interactive table.\"\n",
              "              style=\"display:none;\">\n",
              "        \n",
              "  <svg xmlns=\"http://www.w3.org/2000/svg\" height=\"24px\"viewBox=\"0 0 24 24\"\n",
              "       width=\"24px\">\n",
              "    <path d=\"M0 0h24v24H0V0z\" fill=\"none\"/>\n",
              "    <path d=\"M18.56 5.44l.94 2.06.94-2.06 2.06-.94-2.06-.94-.94-2.06-.94 2.06-2.06.94zm-11 1L8.5 8.5l.94-2.06 2.06-.94-2.06-.94L8.5 2.5l-.94 2.06-2.06.94zm10 10l.94 2.06.94-2.06 2.06-.94-2.06-.94-.94-2.06-.94 2.06-2.06.94z\"/><path d=\"M17.41 7.96l-1.37-1.37c-.4-.4-.92-.59-1.43-.59-.52 0-1.04.2-1.43.59L10.3 9.45l-7.72 7.72c-.78.78-.78 2.05 0 2.83L4 21.41c.39.39.9.59 1.41.59.51 0 1.02-.2 1.41-.59l7.78-7.78 2.81-2.81c.8-.78.8-2.07 0-2.86zM5.41 20L4 18.59l7.72-7.72 1.47 1.35L5.41 20z\"/>\n",
              "  </svg>\n",
              "      </button>\n",
              "      \n",
              "  <style>\n",
              "    .colab-df-container {\n",
              "      display:flex;\n",
              "      flex-wrap:wrap;\n",
              "      gap: 12px;\n",
              "    }\n",
              "\n",
              "    .colab-df-convert {\n",
              "      background-color: #E8F0FE;\n",
              "      border: none;\n",
              "      border-radius: 50%;\n",
              "      cursor: pointer;\n",
              "      display: none;\n",
              "      fill: #1967D2;\n",
              "      height: 32px;\n",
              "      padding: 0 0 0 0;\n",
              "      width: 32px;\n",
              "    }\n",
              "\n",
              "    .colab-df-convert:hover {\n",
              "      background-color: #E2EBFA;\n",
              "      box-shadow: 0px 1px 2px rgba(60, 64, 67, 0.3), 0px 1px 3px 1px rgba(60, 64, 67, 0.15);\n",
              "      fill: #174EA6;\n",
              "    }\n",
              "\n",
              "    [theme=dark] .colab-df-convert {\n",
              "      background-color: #3B4455;\n",
              "      fill: #D2E3FC;\n",
              "    }\n",
              "\n",
              "    [theme=dark] .colab-df-convert:hover {\n",
              "      background-color: #434B5C;\n",
              "      box-shadow: 0px 1px 3px 1px rgba(0, 0, 0, 0.15);\n",
              "      filter: drop-shadow(0px 1px 2px rgba(0, 0, 0, 0.3));\n",
              "      fill: #FFFFFF;\n",
              "    }\n",
              "  </style>\n",
              "\n",
              "      <script>\n",
              "        const buttonEl =\n",
              "          document.querySelector('#df-f4197812-8334-4b27-9273-a98ee3326633 button.colab-df-convert');\n",
              "        buttonEl.style.display =\n",
              "          google.colab.kernel.accessAllowed ? 'block' : 'none';\n",
              "\n",
              "        async function convertToInteractive(key) {\n",
              "          const element = document.querySelector('#df-f4197812-8334-4b27-9273-a98ee3326633');\n",
              "          const dataTable =\n",
              "            await google.colab.kernel.invokeFunction('convertToInteractive',\n",
              "                                                     [key], {});\n",
              "          if (!dataTable) return;\n",
              "\n",
              "          const docLinkHtml = 'Like what you see? Visit the ' +\n",
              "            '<a target=\"_blank\" href=https://colab.research.google.com/notebooks/data_table.ipynb>data table notebook</a>'\n",
              "            + ' to learn more about interactive tables.';\n",
              "          element.innerHTML = '';\n",
              "          dataTable['output_type'] = 'display_data';\n",
              "          await google.colab.output.renderOutput(dataTable, element);\n",
              "          const docLink = document.createElement('div');\n",
              "          docLink.innerHTML = docLinkHtml;\n",
              "          element.appendChild(docLink);\n",
              "        }\n",
              "      </script>\n",
              "    </div>\n",
              "  </div>\n",
              "  "
            ],
            "text/plain": [
              "              rating\n",
              "count  165975.000000\n",
              "mean        0.681964\n",
              "std         0.731388\n",
              "min        -1.000000\n",
              "25%         1.000000\n",
              "50%         1.000000\n",
              "75%         1.000000\n",
              "max         1.000000"
            ]
          },
          "execution_count": 172,
          "metadata": {},
          "output_type": "execute_result"
        }
      ],
      "source": [
        "baby_df.loc[(baby_df.rating <= 2),'rating']= -1\n",
        "baby_df.loc[(baby_df.rating >= 4),'rating']= 1\n",
        "\n",
        "baby_df.value_counts()"
      ]
    },
    {
      "cell_type": "markdown",
      "metadata": {},
      "source": [
        "### Distribution of reviews"
      ]
    },
    {
      "cell_type": "code",
      "execution_count": 174,
      "metadata": {
        "colab": {
          "base_uri": "https://localhost:8080/",
          "height": 266
        },
        "id": "dXHl4QUcNVwF",
        "outputId": "d1e8bd7b-ba2e-47b2-cdae-e37c0e8c54cb"
      },
      "outputs": [
        {
          "data": {
            "text/plain": [
              "<matplotlib.axes._subplots.AxesSubplot at 0x7fdd43798bd0>"
            ]
          },
          "execution_count": 174,
          "metadata": {},
          "output_type": "execute_result"
        },
        {
          "data": {
            "image/png": "[encoded data removed]",
            "text/plain": [
              "<Figure size 432x288 with 1 Axes>"
            ]
          },
          "metadata": {},
          "output_type": "display_data"
        }
      ],
      "source": [
        "baby_df.rating.value_counts().plot(kind='pie')"
      ]
    },
    {
      "cell_type": "markdown",
      "metadata": {
        "id": "8J0s7UXeF7IL"
      },
      "source": [
        "### CountVectorizer\n",
        "In order to analyze strings, we need to assign them numerical values. We will use one of the simplest string representation, which transforms strings into the $n$ dimensional vectors. The number of dimensions will be the size of our dictionary, and then the values of the vector will represent the number of appereances of the given word in the sentence."
      ]
    },
    {
      "cell_type": "markdown",
      "metadata": {
        "id": "LrkGnahzF7IT"
      },
      "source": [
        "### Splitting into train and test sets "
      ]
    },
    {
      "cell_type": "code",
      "execution_count": null,
      "metadata": {
        "id": "_qxLJ_ThF7IU"
      },
      "outputs": [],
      "source": [
        "from sklearn.model_selection import train_test_split\n",
        "\n",
        "train, test = train_test_split(baby_df, test_size=0.2)"
      ]
    },
    {
      "cell_type": "markdown",
      "metadata": {},
      "source": [
        "### Vectorizing the reviews"
      ]
    },
    {
      "cell_type": "code",
      "execution_count": 178,
      "metadata": {
        "id": "JUi-i82BF7IV"
      },
      "outputs": [],
      "source": [
        "from sklearn.feature_extraction.text import CountVectorizer\n",
        "\n",
        "vectorizer = CountVectorizer()\n",
        "\n",
        "X_train = vectorizer.fit_transform(train.review)"
      ]
    },
    {
      "cell_type": "markdown",
      "metadata": {
        "id": "CdVS6oP2F7IW"
      },
      "source": [
        "## Training the Logistic Regression model"
      ]
    },
    {
      "cell_type": "code",
      "execution_count": null,
      "metadata": {
        "colab": {
          "base_uri": "https://localhost:8080/"
        },
        "id": "QW-t527iF7IX",
        "outputId": "5d634687-b12c-4bad-89c2-6afe5992874a"
      },
      "outputs": [
        {
          "data": {
            "text/plain": [
              "<132780x122029 sparse matrix of type '<class 'numpy.int64'>'\n",
              "\twith 7102041 stored elements in Compressed Sparse Row format>"
            ]
          },
          "execution_count": 179,
          "metadata": {},
          "output_type": "execute_result"
        }
      ],
      "source": [
        "from sklearn.linear_model import LogisticRegression\n",
        "\n",
        "y_train = train.rating\n",
        "y_test = test.rating"
      ]
    },
    {
      "cell_type": "code",
      "execution_count": 180,
      "metadata": {
        "colab": {
          "base_uri": "https://localhost:8080/"
        },
        "id": "E9PWoaY5WXhK",
        "outputId": "95ab12e7-47bc-4fff-8821-50244a285cfe"
      },
      "outputs": [
        {
          "name": "stdout",
          "output_type": "stream",
          "text": [
            "CPU times: user 2min 2s, sys: 2min 4s, total: 4min 7s\n",
            "Wall time: 2min 6s\n"
          ]
        }
      ],
      "source": [
        "%%time\n",
        "\n",
        "model = model_all = LogisticRegression(max_iter=10000).fit(X=X_train, y=y_train)"
      ]
    },
    {
      "cell_type": "markdown",
      "metadata": {},
      "source": [
        "### Top 10 the most positive and negative words"
      ]
    },
    {
      "cell_type": "code",
      "execution_count": null,
      "metadata": {
        "colab": {
          "base_uri": "https://localhost:8080/"
        },
        "id": "rdZFy91tF7IX",
        "outputId": "bc715ff7-1cb0-430d-857d-03fd2c115761"
      },
      "outputs": [
        {
          "data": {
            "text/plain": [
              "([(-2.835838219670819, 'dissapointed'),\n",
              "  (-2.774577537993409, 'worst'),\n",
              "  (-2.6656151513190958, 'poorly'),\n",
              "  (-2.4159466474427678, 'useless'),\n",
              "  (-2.3885400644936152, 'worthless'),\n",
              "  (-2.385242427441257, 'disappointing'),\n",
              "  (-2.334405725743697, 'bummed'),\n",
              "  (-2.327633427469466, 'concept'),\n",
              "  (-2.2467722267491217, 'intelligent'),\n",
              "  (-2.2076138884306675, 'disappointed')],\n",
              " [(1.8044038581740074, 'hesitate'),\n",
              "  (1.8191948180817366, 'perfect'),\n",
              "  (1.874528806083676, 'thankful'),\n",
              "  (1.885687985180898, 'awesome'),\n",
              "  (1.9072756458186724, 'excellent'),\n",
              "  (1.9633512734077787, 'wonderfully'),\n",
              "  (1.9978254166670104, 'skeptical'),\n",
              "  (2.038381463616364, 'rich'),\n",
              "  (2.0821785123809247, 'saves'),\n",
              "  (2.367278330449952, 'lifesaver')])"
            ]
          },
          "execution_count": 181,
          "metadata": {},
          "output_type": "execute_result"
        }
      ],
      "source": [
        "zipped = list(zip(model.coef_.flatten(), vectorizer.get_feature_names_out()))\n",
        "\n",
        "sorted_words = sorted(zipped, key= lambda x: x[0])\n",
        "\n",
        "sorted_words[:10], sorted_words[-10:]"
      ]
    },
    {
      "cell_type": "markdown",
      "metadata": {
        "id": "5LkcTBq9F7IY"
      },
      "source": [
        "\n",
        "## Predicting "
      ]
    },
    {
      "cell_type": "code",
      "execution_count": null,
      "metadata": {
        "id": "JQrPqCAKF7IZ"
      },
      "outputs": [],
      "source": [
        "X_test_all = vectorizer.transform(test.review)\n",
        "\n",
        "y_pred = model.predict(X_test_all)"
      ]
    },
    {
      "cell_type": "markdown",
      "metadata": {},
      "source": [
        "### The prediction in terms of probability"
      ]
    },
    {
      "cell_type": "code",
      "execution_count": null,
      "metadata": {
        "colab": {
          "base_uri": "https://localhost:8080/"
        },
        "id": "CD5vXZtUF7IZ",
        "outputId": "5753f052-fb4c-415a-a51a-109cd1c607de"
      },
      "outputs": [
        {
          "data": {
            "text/plain": [
              "array([[1.45674057e-02, 9.85432594e-01],\n",
              "       [2.27721959e-05, 9.99977228e-01],\n",
              "       [7.55156032e-02, 9.24484397e-01],\n",
              "       ...,\n",
              "       [1.26284823e-02, 9.87371518e-01],\n",
              "       [8.86425430e-04, 9.99113575e-01],\n",
              "       [5.70214234e-01, 4.29785766e-01]])"
            ]
          },
          "execution_count": 183,
          "metadata": {},
          "output_type": "execute_result"
        }
      ],
      "source": [
        "y_prob = model.predict_proba(X_test_all)\n",
        "\n",
        "y_prob"
      ]
    },
    {
      "cell_type": "markdown",
      "metadata": {},
      "source": [
        "### The most negative and positive review"
      ]
    },
    {
      "cell_type": "code",
      "execution_count": null,
      "metadata": {
        "id": "rSY2HcpUF7Ia"
      },
      "outputs": [],
      "source": [
        "sorted_reviews = sorted(zip(test.review, y_prob,), key= lambda x: x[1][0])"
      ]
    },
    {
      "cell_type": "code",
      "execution_count": 185,
      "metadata": {
        "colab": {
          "base_uri": "https://localhost:8080/"
        },
        "id": "k4pf84fcgKqA",
        "outputId": "d9f92ecf-5448-4ed8-a66f-2404876806f2"
      },
      "outputs": [
        {
          "name": "stdout",
          "output_type": "stream",
          "text": [
            "My local BRU had only 15 strollers to look at and most of them were umbrella or AIO travel systems I still liked the BJ City Mini due to its low weight and easy fold but it lacked the options I wanted and the growth potential for a second kid  I also really liked the JJ Cole Broadway but again no second seat So I traveled a ways to visit BBB and boy was that overwhelming but fun They had tons of strollers including many great convertible strollers that go from 12 kid configurations but most of them were tandem and not side to side The issue with tandem strollers such as the Baby Jogger City Mini and the Britax was that although it had lots of optional configurations they really didnt work for two kids I didnt see either of them being comfortable in recline and it was just cumbersome to get them in and out  So off to sidebyside Near the end of our visit we discovered the Bugaboo Donkey and boy was that a delight to test drive With its side bag and colorful shades and cool features it was definitely becoming my favorite The only problem was the price It was WAY too expensiveAnyhow we went back to searching online and watching tons of youtube videos I got rid of my hope that one stroller would do everything but this one comes close I put together a list of must haves and then optional items with priority Some of the things I love about this stroller is that it fits through doors with ease has the full recline for infants you can jog with this confirmed directly with MB the handle adjusts for my tall hubby the momfacing freestanding carrycot bassinet option for 06mo the side Joey Bag Bugaboo style easy gliding great storage underneath although hard to reach if kid is in fullrecline and the easy locking foot bar We were quite nervous that the handle would not provide enough distance from the stroller for my 64 husband but it does He has a long stride and has no issue with this  Also the sidebyside feature really was important You can easily tend to each kid and adjust canopies or cover them independently and its easy to get them in and out Plus they cannot kick or grab each other  I really think this would work well in a lot of different places amusement parks malls church outdoors neighborhood walks and jogs I love that I can have take the freestanding bassinet into restaurants church pews and also make a downstairs bedSome NegativesThe tires came a bit flat so we will have to air them up Pump is not included Also he noticed that the silver was easily scratched despite his care in assembling it  I do have some concern on the width of the seats as they really are narrow but I really do not plan on pushing around 5 year olds in this so Im okay with that  There is no real handlebar drink storage which would be great to have  The recline is easy enough to adjust but you do have to kneel down and it takes both hands The canopy is kind of a wobbly fit and I kind of wish it was bigger and provided more wind resistance as there are gaps on the side And when you adjust the recline the extra fabric bunches up near the kids head Not a huge issue but a lil annoying It also has a velcro window on top but any craft gal can easily add some magnet closure if this really was important to her  Also how great would it be if they had the optional canopy covers in those jewel tones like JJ ColeMy most helpful tip I can give is to keep and update a list of your wish list items and must haves when doing looking After buying this without ever test driving it in person I love it I am so glad I took the plunge and went with it\n",
            "BOTTOM LINE I would buy this again in a heartbeat and I would buy it over any other travel crib or pack n play I have been so impressed with this crib 100 worth every penny It has been used every night for seven months and shows no signs of wearMy husband and I bought this crib as our only crib for our first baby We were nervous because it was such a large purchase for us This is the most expensive thing we have purchased besides our car After extensive research we decided on the babybjorn because my husband is in graduate school and we will be doing a lot of moving in the next few years She has slept in it since she was three days old and she is now seven months and the crib looks and functions as if it was newOur BabyBjorn has been in six states and five countries We have checked it at airports all over Europe and the US We have checked it in its carrying case alone and it has not been damaged in anyway It has been on trains buses metros trams in taxis cars and planes Even the bag has yet to show signs of wearingThe crib unzips from the metal bars so it can be washed as well This is really nice if you travel a lot We moved into our apartment in Italy and found out that there were bed bugs in it We were worried we would have to replace our loved crib but it can be washed and the matress is cased in plastic so it is safe The plastic liner can unzip and both the matress and the plastic can be washed If you are planning on doing any extensive traveling you will run into bed bugs and this crib is a mustThe sheets and matress pad made by babybjorn are expensive however I found them for half the price at sheetworldcom And we were able to get hot pink cotton ones and hot pink flannel onesThe crib is so easy to put together I personally hate setting things up but it is one motion  just lifting it out of the case It also comes readytogo so no need to put together It even is easy to put back into its case Amazingly seven months plus six countries later it still opens up perfectly everytimeI love that I can see into it so easily through the mesh Being a first time mom I was super nervous when she slept but I could see her without lifting my head off the pillow Also our little one moves a lot while she sleeps and sometimes ends up pressed against the side Luckily the babybjorn is light fabric so she can breath while her face is planted into the side Another great thing is that all the bars are outside of the crib so there is nothing hard for her little head to hitDurning the night she sleeps in it and during the day she plays in it Unlike pack n plays the bottom will not sag because the matress is supported by the floorAlso it is small enough to fit in tight hotel rooms and even on some trains but large enough to provide comfort and space for even the most wiggley babies The carrying case is also slim enough for us to pack it on the floor of our Saturn in front of her car seat It even was smashed in our trunk from Washington DC to Idaho and worked just fine when we pulled it outTwo things about it to keep in mind The crib sits on the floor so it is cooler at the lower elevation than a traditonal crib Also I had a csection and it was difficult for the first week to bend over and lift her out of it However the crib has been built well enough that I do lean on it to grab her and it has not had any issuesIt is hands down the best purchase we made Although it is a bit pricey it is worth every penny I would pay twice what it cost for it I have told friends to buy it I will buy another all over again\n",
            "I actually havent used the crib yet but got it before we move from the US to Africa in a couple weeks I wanted something we could carry on the plane to ensure my 6 week old would have a place to sleep immediately when we arrive and we travel a lot I was actually going online to buy the Guava GoCrib when I saw that this one had just come out I was delighted as I wasnt crazy about the inflatable one  The bag is so light and portable It is so much nicer than lugging the pack n play bag we are using now I couldnt believe how easy it is to set up and take down The frame is so simple and great The mattress does take a little bit of time to velcro all around but it is not too bad The mattress feels comfortable and I love the look of the crib It is going to be perfect for our uses I only wish the bassinet portion was available I am sad about putting my 75 week old on the floorGuava can you get the bassinet out in the next couple weeks pleaseI am looking forward to getting the sunshade when it comes out and I am hoping there will also be a bug net we will be living in a malaria zone and using another net but Id like one that fits perfectlyWith the bassinet this will be the perfect travel crib and I am really happy we got itEdit April 5 2013Now that we have been using the Lotus crib for a few weeks I thought I would edit my review Overall we have been very happy with the crib We moved from the US to Africa with it I had planned to carry it on the plane to ensure it arrived safely for our move but ended up checking it since we had so many bags and I was allowed to check it for free It made it through the flight and baggage handlers unscathed I was able to set it up it minutes when we arrived and baby took a nap within 10 minutes of being in our new home The key to a very quick set up is to already have the sheet on the mattress The only time consuming part of set up is pulling the velcro tabs through the sheet holes and then securing them to the crib If you have the sheet on already it elimates one of those steps Baby has slept comfortable and happily in the crib I have added pictures to the gallery In my pictures I noted that the mattress curves up a bit on the ends It really hasnt effected the crib or babys sleep but I thought I would mention it Also the mesh around the zipper bunches a little bit The zipper moves smoothly still so it is only an aesthetic concern Speaking of the zipper it is a bit loud I rarely use it because the noise bothers my daughter Now without using the door it is a long bend down to the floor to put baby in and out Since my daughter is only 3 months have been using the crib now since 25 months we have to go all the way down to get in her in and out Its a pain on the back This problem will be solved by their bassinet option Very small problems aside we are very happy with the crib Well continue to use it around the house after her real crib arrives and look forward to easily using it for travel in months to comeEdit February 8 2014We have now been using this crib for almost a year It has been to 3 continents grandparents houses friends houses and more The portability cant be beat I have to be honest that I do prefer a regular pack n play when I have the chance They are wider and off the ground which I prefer That being said this one gets the most use My daughter still seems comfortable in at at 135 months shes over 90 in height and weight The size of the packed crib is so small and perfect and it is very easy to use I never hesitate to just pop it up in a friends house for a quick nap Most of my friends say they would never attempt that with a regular pack n play Over the summer I noticed that the top corners were developing some small holes It looked like pressure holes from where the crib folds I contacted guava and they replaced the cover immediately That kind of customer service should get 10 stars\n",
            "We love our Vista with PiggyBack  There are answers I wrote for someone considering the PiggyBack to be shared between twins with a newborn riding  We use the PiggyBack on a 2011 Vista  I have no reason to think it would work differently with an earlier model but havent tried it How easily does the Vista maneuver with the piggyback board and bassinetcar seat toddler seatI found it an easy one handed push with my infant in carseat up until she hit the 30 inch height limit around 12 months even when my 4550 lb preschooler was on the PiggyBack  With the toddler seat forward facing rare as Ill detail below its still an easy one handed push with my 54 lb kindergartener on the PiggyBack with my almost 30 lb toddler in the toddler seat  With the seat rearfacing our typical setup DH still jogs pushed our 85lbs of kids plus 1015lbs of stuff  I find it harder to push with that much weight when the toddler seat is rearfacing and Im more likely to push our K kid to walk when hes feeling lazy and these are often distances that he walks when his sister isnt around  I will sometimes push the 100lbs and the only thing Ive tried that was easier was a double Bob with similar amounts of kid weight  On smooth surfaces I still find it easy to push even one handed How tall a child can the toddler seat accommodate I understand the canopy on the latest model is height adjustable but its not clear what the new height limit might beWhen hes allowed to sit in the seat my 45 inch kindergartener still fits in our 2012 toddler seat but barely  He is over the advertised weight limit though  We did it recently when he was tired and his sister wanted to ride the PiggyBack How tall a child can the piggyback comfortably accommodate and does the child tend to bump their headdo parents often bump their feet on the boardThe handle on the Vista goes around the childs back  I 52 could fit fine on the PiggyBack but Im worried Id break it if I rode it regularly With the PiggyBack the 55 lb weight limit is all you need to worry about  Neither me 52 nor dh 64 ever bump our feet on the piggy back  We only use it with the handle extended all the way to give the kid enough space  As I said dh runs with it regularly which I personally dont think is good for our stroller  He typically pushes it one handed when we are just walking and tends to be slightly offcenter  Im not sure if thats his style or his accommodation to the PiggyBack  When Ive asked he said hes never kicked it though Has anyone used the piggyback for two children and does the stroller handle well with two children riding the boardIve never put 2 children on the board at once  The handle goes on either side of the board and the board has a 55 lb weight limit  Im not sure there would be side to side space for 2 kids at once but I dont think the issue would be handling since it handles fine with 55 lbs of kid on the PiggyBack  I suspect you are pushing the weight limit on the PiggyBack for 2 kids to ride at once if your kids are pushing the 35 lb weight limit on the RumbleSeat individually How easy is it to switch between the bassinet and toddler seat  eg if midouting we need to carry the baby to allow an older sibling to sitYou dont have anywhere to put the bassinet or carseat if you need to switch mid outing  We put our baby in the toddler seat all the way reclined a few times pretty early and UppaBaby sells an insert for it that you could pull out if a big kid needed to ride and you wanted to wear the baby  We brought the toddler seat when we were concerned about our preschooler on the PiggyBack for a couple day long walking outings  The reality though is we never had him get too tired for the PiggyBack even when he was often too tired to walkDo you prefer the baby in the bassinet or carseat or does it not make a difference  I found the older child had more room to ride with the carseat  adaptor than the bassinet and we liked the flexibility of using the vista as our snap n go as well since its so much easier to pushWhy do you keep the toddler seat rearfacing  That seems weirdWe keep the toddler seat rearfacing because about the time we might have forwardfaced our toddler she started riding the PiggyBack as the more mobile kid in her nanny share and just because she wants to be like her big brother  At 20 months she rides the PiggyBack while he walks more often than she rides in the seat though her brother didnt give up the seat until she was born when he was 35y so each kid is different  For such a small toddler its easier to hold onto the seat with the footrest all the way up like you would for a just learning to sit up baby in the upright position than it is to hold onto the handle bars which our older preschooler did from the start  That isnt an option when the seat is forward facing  We just leave the seat rearfacing so she has her PiggyBack handrail and so when both kids are riding they can face each other and interact which they both love  If we expected her to be in the toddler seat for an extended period of time though wed probably turn it forward facingIf I could change anything about the PiggyBack Id want it designed to hold up to 75 lbs because our son would probably like the option of riding long into the future and as he nears the weight limit I can tell that the PiggyBack wheels dont roll quite as well now when hes one not an issue when its just my 20 month old daughter  That said he was 54 lbs at his last pediatrician visit and he might have gained more than a pound in the last few months when Ive noticed that its starting to get harder to push with him on the PiggyBackSeeing how much our toddler loves the PiggyBack though and the ease of adding a friend without a car has given us even more value than I expected and if I had to make the purchase again Id do it in a heartbeat\n",
            "Weve been using the Stokke Scoot for about a year It suits our needs perfectly We live in an urban area and needed something that would be good for public transportation or driving in a car but also could do well in on the city streets I agree that the wheels are on the smaller side and not as premium as Stokkes other two strollers 8211But the Scoot is half the price too And with the Scoot you still get Stokkes warranty Its three years and the BEST one on the market Seriously no other brand compares to customer service and warranty inclusions Stokke is PREMIUM That was important to us when we were looking at strollers The Scoot is not a fullsize stroller so sure you dont get some of the bells and whistles like theres not a solution for pushing two kids around the tires are smaller and the seat only less reclining positions But it DOES work with some car seats8211you gotta get adapters but still you can have a travel system if you need one It comes with a rain cover and mosquito net I dont ever use the mosquito net but we use the rain cover all the time so thats nice to have and bonus that its included with purchase The Scoot isnt a lightweight stroller either so dont expect something super lightweight I appreciated that it seemed durable and I knew that the city streets would beat it up a little bit so I didnt want something like an umbrella stroller So the Scoot is inbetween the fullsize stroller category and umbrella categoryIve NEVER felt that its unsafe ever Smaller wheels on strollers and Ive hadused lots of different brands over the years are more likely to get stuck in cracks of course so this isnt really any breaking news here I push the stroller using two hands If Im using it on uneven terrain or something I will lock the front wheels activated by this little white lever thing by the front wheels and that helps navigate too Ive never had the wheels just randomly lock up like I read by another reviewer 8211 Im wondering if they accidentally are striking the brake or if they have a defect model because thats NOT what the stroller is supposed to do and not what mine does If youre taller and have a long stride the centerpositioned brake might not be the right design for your needs Its been fine for me I dont often use the Scoot in the snow but its been great for running errands around the city so it does well on city streets and sidewalks etc and its been fine in the rain too And Stokke does have awesome customer service I truly cant imagine them not taking something seriously Theyre WHOLE brand model is about meeting and exceeding safety regulations and making products in the best interest of the child Thats the entire philosophy So if someone has had a negative experience with the Scoot or think it might be defective as a customer Id say just call Stokkes customer service number again and speak with another representative if you didnt feel they were listening to your needs previously We shopped around for a long time and looked at other baby brands and Stokkes dedication to whats best for the child and safety has always stuck with me We also have the Sleepi crib system and Ive always found their customer service to be top notch We had the Sleepi system and paid for assembly and everything went seamlessly from ordering at the store and having it shipped  assembled in our apartment no problems at all Stokke also seems to be growing A TON I used to not see the brand around and my mom friends didnt know much about them but now theyre EVERYWHERE A growing brand cares about customer service and especially Stokke they obviously care about safety its obviously in how they create their products and to me in terms of how Ive been treated as a customer So anyways I love StokkeBack to the Scoot8230 I really love how the seat can face both ways and that theres a recline Stokke calls it rest and upright position My son is always super comfortable in the seat Theres only two positions so like I said earlier its not a fullsize stroller but youre not shelling out a grand either The Scoot seat is more roomy so if you have a little baby or small child Id recommend getting a head and neck support just to make the seat more snug My child is over 1 year old The basket is a good size so I can run a few errands The Stokke changing bag hooks on the frame The frame is super study The fabric is highquality and actually repels water like a light drizzle quite well Its also a pretty big canopy so theres good weather coverage for the child either direction the baby is facing If you want a sun parasol sold separately you can snap it into the Scoot seat and have more sun protectionProbably the BEST part about the Scoot is that it folds easily Makes my life a ton easier Ill tell you Stokke has a video on their website that shows how fast and easily it folds Check it out It takes like 5 seconds to collapse it I swear So thats great Like I said before the Scoot is not super lightweight but I appreciate that its more durable than those umbrella stroller options I can lift it just fineWe are really happy with our Scoot and will continue to use it until our child reaches that max weight of 45 pounds I did my research beforehand so I knew that it fit the criteria I needed for a stroller just something compact and easy to use and zip around the city and that I could throw in a car trunk if needed or carry onto the bus Its a great option for someone who wants something more newbornfriendly than those little umbrella strollers and who cant afford or doesnt want something as big and super bulky as those fullsize strollers that take multiple steps to collapse etc and can take up a ton of room in an apartmentHeres the Stokke website for information on the Scoot this Amazon site doesnt have much details on it and I like that theres videos on the website too because that was helpful for us in making our buying decision \n"
          ]
        }
      ],
      "source": [
        "most_positive = sortedd[:1]\n",
        "\n",
        "most_positive"
      ]
    },
    {
      "cell_type": "code",
      "execution_count": 186,
      "metadata": {
        "colab": {
          "base_uri": "https://localhost:8080/"
        },
        "id": "Y4VNrMhvF7Ib",
        "outputId": "87d01c76-042a-4839-c3ef-4e3890aa31fe"
      },
      "outputs": [
        {
          "name": "stdout",
          "output_type": "stream",
          "text": [
            "My husband and I are VERY disappointed and shocked by how awful this bassinet is We ordered it because we liked the color and it looked nice and simple and it was inexpensive Well we got what we paid for1 It comes in 3 parts so you would think assembly would be a piece of cake EVERYTHING about assembling this is awful There are metal wires on the back that you have to force into these clips which is almost impossible because the wire is way too long I 10 months pregnant had to push the opposite side of the bassinet as hard as i could so my husband could try to get the wire into the clips that it comes with This took us a very long time2 Next we tried to pull the legs apart which were wedged together by all the screws and things attached3 THE CANOPY You would think this would be a sinch right The canopy wires or wine as they call them in the instructions was backwards The canonpy is so flimsy that it hardly is worthwhile Once we got the canopy wire turned around correctly we pushed as hard as possible to insert the canopy into the base and twice in about an hour the canopy already popped out which clearly poses a safety issue if there were a baby inside4 The wheels were very hard to insert to the point that they clicked in5 The instructions were obviously written by a nonEnglish speaking person Not only is the grammar horrific there are spelling errors and the instructions tell you NOTHING What does Pull forward to open pull afterward to close mean This is all that is given on how to insert the canopy Which again you would think would be self explanatory But when you are trying for 20 minutes to get it to insert and the wire is backwards you look for some sort of instruction The only instruction they do give is the obvious Again open canopy Ok thank you thats great HOW DO YOU INSERT IT PROPERLY6 Finally the color is very weird I wouldnt have even mentioned this if it wasnt so awful in every other way I thought it was going to be green but like a previous review said its blue and yellow plaid with green ruffles The sheet that comes with it is a very rough material The basket beneath seems impossible to get into as there is just a very small opening on the sides All of this I could have lived withI am so frustrated with this because we are having our baby in 3 days and the bassinet just arrived I was excited assuming we would have the bassinet in time for the baby Now it appears we are going to have to return it because it is so awfulIf we can figure out how to get this thing apart and no wonder it is out of stock everywhere no one wants to sell junk like this I was going to keep it and make do with it until the canopy continued to pop out I cant put my baby in something this unsafe And now its to the point where I am so frustrated with how poorly made this is that even though it was only 60 its the principle that I want something that will last through future children I have no idea where we are going to put our baby for the first week or so during the most exhausting period of motherhood Thanks a lot Dream on Me\n",
            "This is a long review but if you read the whole thing it may save you some money and frustration If you just want to read the bit about the Bottles jump down to the 6th Paragraph and read from thereI used Avent products with my first child 5 years ago and was absolutely thrilled Back then I was a solomother on welfare so the cost was a real struggle for me but I was so thrilled with the product that I found the money to buy the things I needed for my childFive years on and oh how things have changed This time around I am married and have the funds to be able to buy whichever brand I want without money being a consideration So I eagerly stocked up on all things Avent I bought the 4 oz bottles 9 oz bottles disposable bottle kit Isis Electric Breast Pump pacifiers Bottle  Food Warmer Bottle Tote Formula Dispeser Microwave Steam Steriliser  the whole shebangThe first thing to go wrong was the Isis Breast Pump US150 from BabiesRUs It would work fine for anywhere between 2 and 10 minutes and then the suction would slack off and the rhythm would go out of whack stopping the flow of milk from my breast I would then have to turn off the machine and pump manually instead or be left only partially expressed I was reliant on the pump to take off my milk as my baby would not latch and I really wanted to keep giving her breast milk When the machine broke down I contacted Avent and asked for a refund as I was going to have to replace the machine Avent told me that it was a nonrefundable item but if I waited a week they would send out a label for me to ship the pump back to them and then IF THEY FOUND A FAULT they would then repair it and return it to me They said it would take 24 weeks And what was I to do without a breast pump for a month I asked The lady on the phone suggested that I purchase their manual pump to use in the meantime and boasted that it would only cost me about US50 Needlesstosay I lost a lot of money on this and was absolutely furious I threw the worthless pump in the trash and ended up 100 formulafeeding my babyThen there were issues with some of the nipples tearing and they were less than a month old I figured this was just my misfortune so rather than make a fuss about it I simply replaced the nipples at my own expenseNext came the distorted bottles I noticed one day that the plastic of one of the 4 oz bottles was warped I thought it a little odd but again thought that I had probably just caught a wonky batch and didnt think too much about it Then another bottle warped and another and another and another  fairly soon I had 5 warped bottles some 4 oz some 9 oz Enough was enough I called Avent again and complained only to have the woman on the phone tell me that I mustnt have read the instrustions on the MICROWAVE STEAM STERILISER properly The woman asked me to confirm the wattage of my microwave the amount of time I was putting the bottles in for and how much water I was using 900W 5 minutes 200 mls After telling her she confirmed that yes that was all correct but she still said that I must have been doing something wrong during the sterilising processThe lady sent me out a label to send the bottles back to them for testing She said that once the bottles had been tested then they would get back to me Well while waiting for the label to arrive I ensured that I absolutely was following the instructions correctly when I used the Steriliser but I still managed to have two more bottles warp on me giving me a total of 7 warped bottles to returnI finally got the label and sent the bottles back About a week later Avent called and said that the tests showed I had overloaded the Steriliser and that had caused the bottles to warp She said that as a oneoff courtesy they would replace the five 9oz bottles I pointed out to her that I had stacked the Steriliser as told to do so in the illustrations of the instruction booklet and when I asked about the two 4 oz bottles I had also returned she denied that they had received them even though I put them all in the package myself and refused to discuss the matter any further So I have lost 2 bottles and have a steriliser that apparently likes to melt bottles regardless of how cautious I am about follwing the directionsThe other things I have had issues with are the pacifiers and the Bottle Tote The pacifiers had a hard edge on the silicone which was very uncomfortable for my newborn I ended up replacing these with a different brand as Avent wanted me to return the pacifiers to them at my own expense before they would consider replacing them The Bottle Tote packaging states that it will keep bottles warm or cold for up to 4 hours This is more like up to 2 hours but even that is dubious In order to get the bottles hot enough to stay warm for 4 hours it would have to be boiling water but if you put boiling water into the bottles the pressure becomes too much for them to handle so thats not an option I have ended up throwing out the Bottle Tote which cost me 15 and purchasing a midsize Thermos I put the water of about the right temperature into the Thermos and take empty bottles with me I even use the Thermos at home so that I do not have to wait for the Avent Bottle Warmer to hurry up and do its thing at 3amI also have the Via Nurser Kit and addtional containers but have found that the lids sometimes do not seal properly and therefore leak Very annoying especially when you had premixed formula in the container your baby is hungry and youre an hour drive from homeI am absolutely disappointed with Avent Almost every product of theirs that I have purchased this time around has been defective in one way or another and their cutomer service level has been absolutely pathetic They have obviously never heard the customer is always right because the have continually placed the blame solely on me for the issues that I have hadAvent used to be a great company with a great product and now it seems that they are simply relying on their good reputation of the past to carry them through the future Its not good enough Their products are NOT worth the money anymore and I strongly recommend that no one buy any of their products There are tons of very good better products available on the market and I will be replacing all of my Avent equipment with another brand as soon as I can I noticed while at Target the other day that Circo are now making wide neck bottles that look exactly like the Avent ones but at almost half the price  I think Ill give them a go Maybe you should too\n",
            "I am so incredibly disappointed with the stroller I just dont even know where to begin  First of all I have four children and have been through many strollers  This stroller hands down is the worst stroller I have ever owned  I really wanted a double stroller that was somewhat compact but that would also accommodate an infant car seat  The Aria twin claims to be able to do thisCONS So first a foremost I would NEVER place an infant car seat on this stroller  Even with a Peg Perego infant car seat it is really unsteady while on the stroller  The tray the car seat rests on is super flimsy as in worse than a super cheap 40 dollar stroller In general the entire stroller is made of really flimsy cheapo plastic With two small children in it one that weights 22 pounds and the other only 15 pounds the stroller is really difficult to steer  When attempting to turn the entire plastic frame twists and feels like it is going to brake  It feels like trying to turn with two 100 pound kids overloading the stroller It feels like a really cheapo stroller From day one the storage basket under the kids has dragged on the ground  Yes it is installed correctly  I even called Peg Perego but they said there was nothing they could do  So now it has a giant hole in it and cannot be use Since about the second week we owned the stroller the tires on the wheels of the stroller keep randomly popping off  I will be walking in the mall and hear a thumpthumpthump sound only to see a tire half hanging on tot he wheel The cup holder is worthless and will not fit anything at all except maybe a small water bottle The sun shades are really really short I had to buy extensionsPRO It does fold very compactly as in much smaller than most single strollersI really wanted to love this stroller  I kept making excuses for it but finally just gave up  At this point my husband refuses to use it  We really have been through many strollers and none are perfect  However if you are looking for a somewhat compact but nice double stroller I would recommend looking at the Baby Jogger City Mini which is what I ended up buying to replace this stroller or maybe the Combi double stroller which our friends have and seem to really enjoy  I would not waste money on the Aria twin  I spent over 300 dollars on this stroller and cant even attempt to resell it because after less than a year of use it is basically trash which is what it wound up being  I dont know about other Peg Perego products but after my experience with this stroller I can honestly say Im not going to gamble my money on the brand again\n",
            "I would recommend in the strongest possible way no one ever buy this product The other reviews of this product are all too kind and they say so in their descriptions All of them point out that the product does not work smoothly or seem to do anything magically different they also seem to give 3 stars without comparing the product to anything else I have compared the product to something elsea regular trash canand the regular trash can was better And the regular trash can didnt even have a lid on it A family friend also purchased this thing and has the exact same complaints Namely that the lid gets stuck that you have to hunch over and shove the diapers into the pail and that you have to buy replacement bags every month or few weeks In the end this thing is a waste of money and is simply worse than a regular old trash can Detailed descriptions belowThe Munchkin1 There are major issues with the lid The lid is supposed to keep out odors while sprinkling a tiny really tiny amount of baking soda as you close it and initiating a mechanical twist of the bag to further seal off the odors However the lid is constantly fighting with the mechanics that twist the bag creating starting when then bag gets about half full a series of sounds reminiscent of small arms fire Crackcrack crackcrack  You will live in constant fear of a late night gun battle playing out in the childs room leading to a screaming sleepy cranky baby Closing the lid twists the top part of the bag in a ring of rubber sharklike teeth thereby closing off the bag as well However the lid will often simply get stuck open because these rubber teeth put too much pressure on the mechanics of the lid This forces you to stick your hand into the pail itself and move the bag around to relieve the pressure so the lid will close Think about ityou have to stick your hand into the very closure intended to keep odors out Very often you have to decide between fixing the lid or picking up a now grumpy baby2 The rubber teeth are a pain Often the rubber teeth create to much counter pressure to the closing of the lid and the entire process comes to a plastic cracking halt Even if the lid works correctly you still have to shove the diaper through the rubber teeth You can not just drop a diaper in instead you have to jam it through the teeth Every time you change a diaper you have to bend down and shove your hand through a set of rubber teeth two feet off the floor And two feet off the floor is correct This thing barely comes up to my kneecaps Think about iteven when working 100 correctly you have to bend over two feet and jam your fist partially through a set of rubber teeth How is that better than dropping a diaper into a bucket3 Whats the deal with the bags I meanfor serious A bag lasts you maybe 4 days at a max and more like 48 hours Munchkin wants you to fork out whatever bucks a month for replacement bags I think this is the entire reason for the mechanical twisting of the bags and not to keep in smells The tops of the bags have plastic ring you set into the top of the pail and which then snaps into place The replacement bags are only 510 bucks a box but it seems like a real scam I have tried two things A I wondered what would happen if I reused one of the Munchkin bags Nothing bad happened at all I dumped the diapers into the outside trash and put the bag back No smells no nastiness nothing bad happened at all I used the same bag for two weeks rather than two days After two weeks of us there were still no smells B I then decided to try a regular trash bag It worked fine You just have to leave a bit of the bag sticking out beyond the lid to make sure the rubber teeth dont pull the thing completely into the pail when you close the lid4 The baking soda does nothing A novel idea sure But like the twisting of the bags it seems like a gimmick The level of baking soda dropped into the bag when you close the lid is minor and the baking soda compartment is totally closed off I do not see how either is doing much to absorb odorsAlternativesThe only alternative I have used is an old plastic trash can with an open bag in it and no lid I dropped diapers in it for 5 days without emptying it No smells whatsoever Half the time it was nice out and we had the windows open The other half of the time it was 90 degrees and the air conditioning was on In both cases it worked out fine No smellsConclusionsDo not buy this munchkin monstrosity Every time you use it you will wonder if the lid will close or start making cracking noises as it struggles to twist the bag Buy a trashcan with a lid Maybe one with a step lid And if your kid makes a smelly one Empty the trash can Why would you want to keep that stuff inside a nursery anyway The munchkin is a gimmicky thing and not worth it at all It seems like a great idea but in actuality the thing does not work\n",
            "Please see my email to the companyHelloI am writing to voice my familys anger over your unsafe cheap cosleeper  If you recall I had a problem with my newly purchased cosleeper back in May which I immediately called about and was told to send the frame back  At that time I asked to speak to a supervisor about the situation and was told that I would be contacted shortly  However Mayra was the only one who I was able to speak with after numerous attempts to be put in contact with the supervisor  After a huge delay due to mistakes on your end I finally got the cosleeper sent back to the company after speaking with Veronica on June 13thAt this time June 13th I asked to speak with the manager of the company and Veronica told me that Sharon was not in at the time but would be in later that day  I obviously never heard from Sharon or anyone else from this company for that matter from that point on  I was inquiring to speak with the manager after voicing my concern over just repairing the frame instead of receiving a new productWe received the frame shipped back to us without so much as an email or follow up from Arms Reach  The entire process to get our frame back took over a month from the time I first contacted customer service  I had initially asked for a replacement frame since our daughter had been used to sleeping in it by this time and I did not want to completely disrupt her sleep pattern while waiting for the repair which it did  The frame came back to us in a box with one sheet of paper which did nothing to describe what was wrong with the frame or what was done to repair itI use the term repair in disgust since it clearly was never properly repaired  We assembled the cosleeper again according to exact instructions in the manual  Two nights later I noticed that now if I barely touched the rail of the cosleeper nearest our bed that it would collapse and had to be pulled back up into the lock position  Obviously we felt very uncomfortable using the cosleeper but after having dealt with your awful lack of customer service the first time around I did not waste my time trying to reach Mayra Veronica or Sharon againTo avoid the problem of the collapsing side rail we have been careful to not touch or even brush against it for fear that it would collapse with our daughter in it  Without touching it it does stay up  Tonight July 23rd however I laid my daughter down from the other side of the cosleeper all together and the other side rail immediately collapsed when I laid her in the cosleeper  She was in it  I had not put any pressure on the side rail it just collapsed  After taking her out waking her up in the process and moving her elsewhere to be put to sleep for the night I attempted to relock the side rail  It took several tries and does not seem secure at allI can not believe that your remedy to fix the situation of a faulty cosleeper was to send our same frame back to us repaired which still breaks and is worse off than when I first contacted you  I am so turned off by your company not only because of the safety hazards associated with putting a baby in this piece of crap product that you make but the complete lack of care from the supervisor or manager You would think that someone would be concerned that their products for babies are faulty and unsafe  These are babies we are talking about here  Not pets not adultsinnocent babies who need the safest place possible to sleep  Your company disgusts me and I am honestly surprised that you are still around  Not for long I am sure\n"
          ]
        }
      ],
      "source": [
        "most_negative = sortedd[-1:]\n",
        "\n",
        "most_negative"
      ]
    },
    {
      "cell_type": "markdown",
      "metadata": {},
      "source": [
        "### Calculating accuracy of the model"
      ]
    },
    {
      "cell_type": "code",
      "execution_count": null,
      "metadata": {
        "colab": {
          "base_uri": "https://localhost:8080/"
        },
        "id": "5hXpGD8fqtse",
        "outputId": "b1227df3-3058-479a-bc26-44562f33dcdd"
      },
      "outputs": [
        {
          "data": {
            "text/plain": [
              "0.9314655821659888"
            ]
          },
          "execution_count": 187,
          "metadata": {},
          "output_type": "execute_result"
        }
      ],
      "source": [
        "correct = sum(y_pred == test.rating)\n",
        "accuracy = correct/len(test)\n",
        "\n",
        "accuracy"
      ]
    },
    {
      "cell_type": "markdown",
      "metadata": {
        "id": "ViwVqWdaF7Ic"
      },
      "source": [
        "## Training the Logistic Regression model with limited set of words (dictionary)"
      ]
    },
    {
      "cell_type": "code",
      "execution_count": 188,
      "metadata": {
        "id": "RP8XBFPzF7Ie"
      },
      "outputs": [],
      "source": [
        "significant_words = ['love','great','easy','old','little','perfect','loves','well','able','car','broke','less','even','waste','disappointed','work','product','money','would','return']"
      ]
    },
    {
      "cell_type": "code",
      "execution_count": null,
      "metadata": {
        "id": "oIAzSH4JF7If"
      },
      "outputs": [],
      "source": [
        "from sklearn.feature_extraction.text import CountVectorizer\n",
        "from sklearn.linear_model import LogisticRegression\n",
        "\n",
        "vectorizer = CountVectorizer(vocabulary=significant_words)\n",
        "X_train = vectorizer.fit_transform(train.review)\n",
        "\n",
        "y_train = train.rating\n",
        "y_test = test.rating"
      ]
    },
    {
      "cell_type": "code",
      "execution_count": 190,
      "metadata": {
        "colab": {
          "base_uri": "https://localhost:8080/"
        },
        "id": "w0kG1-NRxCAK",
        "outputId": "a576c5f9-98d9-490b-c0eb-7853ee9d7bfd"
      },
      "outputs": [
        {
          "name": "stdout",
          "output_type": "stream",
          "text": [
            "CPU times: user 421 ms, sys: 6.79 ms, total: 428 ms\n",
            "Wall time: 425 ms\n"
          ]
        }
      ],
      "source": [
        "%%time\n",
        "model = model_voc = LogisticRegression().fit(X=X_train, y=y_train)"
      ]
    },
    {
      "cell_type": "markdown",
      "metadata": {},
      "source": [
        "### Top 10 "
      ]
    },
    {
      "cell_type": "code",
      "execution_count": 191,
      "metadata": {
        "colab": {
          "base_uri": "https://localhost:8080/"
        },
        "id": "MO9eHmYSmLCa",
        "outputId": "13093a7f-499f-48d7-c8b2-5529cbcff9aa"
      },
      "outputs": [
        {
          "data": {
            "text/plain": [
              "([(-2.379050544271473, 'disappointed'),\n",
              "  (-2.0566398129722843, 'return'),\n",
              "  (-2.0161132708921694, 'waste'),\n",
              "  (-1.6737916020762107, 'broke'),\n",
              "  (-0.8863582503451614, 'money'),\n",
              "  (-0.6318000434931377, 'work'),\n",
              "  (-0.5246165859183308, 'even'),\n",
              "  (-0.33406605477080953, 'would'),\n",
              "  (-0.3135729959664947, 'product'),\n",
              "  (-0.2151626415386641, 'less')],\n",
              " [(0.06461735274574591, 'car'),\n",
              "  (0.09627686314775412, 'old'),\n",
              "  (0.2021343361614224, 'able'),\n",
              "  (0.489752309455154, 'well'),\n",
              "  (0.5139188023743163, 'little'),\n",
              "  (0.9467209639321255, 'great'),\n",
              "  (1.1624170295942238, 'easy'),\n",
              "  (1.365884901871973, 'love'),\n",
              "  (1.4889537375591053, 'perfect'),\n",
              "  (1.7512559580822782, 'loves')])"
            ]
          },
          "execution_count": 191,
          "metadata": {},
          "output_type": "execute_result"
        }
      ],
      "source": [
        "zipped = list(zip(model.coef_.flatten(), vectorizer.get_feature_names_out()))\n",
        "\n",
        "words_weights = sorted(zipped, key= lambda x: x[0])\n",
        "\n",
        "words_weights[:10], words_weights[-10:]"
      ]
    },
    {
      "cell_type": "markdown",
      "metadata": {},
      "source": [
        "## Predicting"
      ]
    },
    {
      "cell_type": "code",
      "execution_count": 199,
      "metadata": {
        "id": "l4IXVGJoqwbT"
      },
      "outputs": [],
      "source": [
        "X_test_voc = vectorizer.transform(test.review)\n",
        "\n",
        "y_pred = model.predict(X_test_voc)\n",
        "y_prob = model.predict_proba(X_test_voc)"
      ]
    },
    {
      "cell_type": "code",
      "execution_count": null,
      "metadata": {
        "colab": {
          "base_uri": "https://localhost:8080/"
        },
        "id": "9uHs4VpTq305",
        "outputId": "9f775858-1056-430c-dcb6-db1c5dabfa98"
      },
      "outputs": [],
      "source": [
        "sorted_reviews = sorted(zip(test.review, y_prob,), key= lambda x: x[1][0])"
      ]
    },
    {
      "cell_type": "markdown",
      "metadata": {},
      "source": [
        "### The most negative and positive review"
      ]
    },
    {
      "cell_type": "code",
      "execution_count": null,
      "metadata": {},
      "outputs": [],
      "source": [
        "most_positive = sorted[1:]\n",
        "\n",
        "most_positive"
      ]
    },
    {
      "cell_type": "code",
      "execution_count": 194,
      "metadata": {
        "colab": {
          "base_uri": "https://localhost:8080/"
        },
        "id": "IhdaTlKcF7Ih",
        "outputId": "ae927db3-fda8-4d5e-855a-71122e559a94"
      },
      "outputs": [
        {
          "name": "stdout",
          "output_type": "stream",
          "text": [
            "I am extremely disappointed with this productwhat a complete waste of money  I originally had a diaper genie however my son broke the top off of it and I decided to try the diaper dekor because it seemed a little easier to use  The design is a nice idea but boy does this thing STINK We change this every couple of days before its even full and it still stinks  Ive tried deodorizers baking soda lysol etc and it still takes your breath away  We never experienced any odor problems with the diaper genieIm kicking myself for wasting the money on this thing I actually went out and bought another diaper genie because we couldnt take the stench of the diaper dekor anymore  Do yourself a favor and dont waste the money\n",
            "I was excited to give these instruments to my 4 year old for her birthday because they are cute painted instruments that look even better in person than online I assumed that since the set was wooden and 1015 more expensive than other similar sets it would be durable My daughter opened the box and the drum broke within two minutes in the middle of her family birthday party She was heartbroken  she was just patting it with her hand when it broke but she thought she did something wrong I dont even know the return policy  I am so busy that is the whole reason I did birthday shopping in the middle of the night online  dealing with boxing it up and taking it to the post office is last on my priority list so it is sitting in my entryway completely useless I was disappointed that such a cute set that my daughter was so excited to receive ended up being such a waste\n",
            "I really like this shopping cart bag EXCEPT that the zipper that holds this bag together when not in use broke after 2 uses  Since the 2nd use happened after the end of the 30 day return policy AND since I had already used the product of course I did  how else would it break the seller would not accept a return  BabyAge was the seller I purchased through on Amazon and I DO NOT RECOMMEND THEM  The product of course also was at fault so I also contacted BuggyBagg and after a couple voicemails  emails to them I did not receive a return call or return email\n",
            "Babyhaven knew that the items were never taken out their boxes and definitely not used however they gave me no consideration for a return I understand that they have a return policy but Im sure exceptions have been made  These were purchased to keep our kitty from opening bedroom doors but we had to put him down before we could install the product  We placed them in a closet and just found them  As one can imagine after losing a member of our family my first thought was not in returning the items  We found the package this weekend and thought we would at least attempt a return  But because they were purchased over 30 days ago we are unable to return them  This company should consider the condition of the item in the return before just flat out denying the return I will not be purchasing any additional items from this company\n",
            "This is a long review but if you read the whole thing it may save you some money and frustration If you just want to read the bit about the Bottles jump down to the 6th Paragraph and read from thereI used Avent products with my first child 5 years ago and was absolutely thrilled Back then I was a solomother on welfare so the cost was a real struggle for me but I was so thrilled with the product that I found the money to buy the things I needed for my childFive years on and oh how things have changed This time around I am married and have the funds to be able to buy whichever brand I want without money being a consideration So I eagerly stocked up on all things Avent I bought the 4 oz bottles 9 oz bottles disposable bottle kit Isis Electric Breast Pump pacifiers Bottle  Food Warmer Bottle Tote Formula Dispeser Microwave Steam Steriliser  the whole shebangThe first thing to go wrong was the Isis Breast Pump US150 from BabiesRUs It would work fine for anywhere between 2 and 10 minutes and then the suction would slack off and the rhythm would go out of whack stopping the flow of milk from my breast I would then have to turn off the machine and pump manually instead or be left only partially expressed I was reliant on the pump to take off my milk as my baby would not latch and I really wanted to keep giving her breast milk When the machine broke down I contacted Avent and asked for a refund as I was going to have to replace the machine Avent told me that it was a nonrefundable item but if I waited a week they would send out a label for me to ship the pump back to them and then IF THEY FOUND A FAULT they would then repair it and return it to me They said it would take 24 weeks And what was I to do without a breast pump for a month I asked The lady on the phone suggested that I purchase their manual pump to use in the meantime and boasted that it would only cost me about US50 Needlesstosay I lost a lot of money on this and was absolutely furious I threw the worthless pump in the trash and ended up 100 formulafeeding my babyThen there were issues with some of the nipples tearing and they were less than a month old I figured this was just my misfortune so rather than make a fuss about it I simply replaced the nipples at my own expenseNext came the distorted bottles I noticed one day that the plastic of one of the 4 oz bottles was warped I thought it a little odd but again thought that I had probably just caught a wonky batch and didnt think too much about it Then another bottle warped and another and another and another  fairly soon I had 5 warped bottles some 4 oz some 9 oz Enough was enough I called Avent again and complained only to have the woman on the phone tell me that I mustnt have read the instrustions on the MICROWAVE STEAM STERILISER properly The woman asked me to confirm the wattage of my microwave the amount of time I was putting the bottles in for and how much water I was using 900W 5 minutes 200 mls After telling her she confirmed that yes that was all correct but she still said that I must have been doing something wrong during the sterilising processThe lady sent me out a label to send the bottles back to them for testing She said that once the bottles had been tested then they would get back to me Well while waiting for the label to arrive I ensured that I absolutely was following the instructions correctly when I used the Steriliser but I still managed to have two more bottles warp on me giving me a total of 7 warped bottles to returnI finally got the label and sent the bottles back About a week later Avent called and said that the tests showed I had overloaded the Steriliser and that had caused the bottles to warp She said that as a oneoff courtesy they would replace the five 9oz bottles I pointed out to her that I had stacked the Steriliser as told to do so in the illustrations of the instruction booklet and when I asked about the two 4 oz bottles I had also returned she denied that they had received them even though I put them all in the package myself and refused to discuss the matter any further So I have lost 2 bottles and have a steriliser that apparently likes to melt bottles regardless of how cautious I am about follwing the directionsThe other things I have had issues with are the pacifiers and the Bottle Tote The pacifiers had a hard edge on the silicone which was very uncomfortable for my newborn I ended up replacing these with a different brand as Avent wanted me to return the pacifiers to them at my own expense before they would consider replacing them The Bottle Tote packaging states that it will keep bottles warm or cold for up to 4 hours This is more like up to 2 hours but even that is dubious In order to get the bottles hot enough to stay warm for 4 hours it would have to be boiling water but if you put boiling water into the bottles the pressure becomes too much for them to handle so thats not an option I have ended up throwing out the Bottle Tote which cost me 15 and purchasing a midsize Thermos I put the water of about the right temperature into the Thermos and take empty bottles with me I even use the Thermos at home so that I do not have to wait for the Avent Bottle Warmer to hurry up and do its thing at 3amI also have the Via Nurser Kit and addtional containers but have found that the lids sometimes do not seal properly and therefore leak Very annoying especially when you had premixed formula in the container your baby is hungry and youre an hour drive from homeI am absolutely disappointed with Avent Almost every product of theirs that I have purchased this time around has been defective in one way or another and their cutomer service level has been absolutely pathetic They have obviously never heard the customer is always right because the have continually placed the blame solely on me for the issues that I have hadAvent used to be a great company with a great product and now it seems that they are simply relying on their good reputation of the past to carry them through the future Its not good enough Their products are NOT worth the money anymore and I strongly recommend that no one buy any of their products There are tons of very good better products available on the market and I will be replacing all of my Avent equipment with another brand as soon as I can I noticed while at Target the other day that Circo are now making wide neck bottles that look exactly like the Avent ones but at almost half the price  I think Ill give them a go Maybe you should too\n"
          ]
        }
      ],
      "source": [
        "most_negative = sorted[-1:]\n",
        "\n",
        "most_negative"
      ]
    },
    {
      "cell_type": "markdown",
      "metadata": {},
      "source": [
        "### Calculating accuracy of the model"
      ]
    },
    {
      "cell_type": "code",
      "execution_count": 195,
      "metadata": {
        "colab": {
          "base_uri": "https://localhost:8080/"
        },
        "id": "bmAAxn9eF7Ii",
        "outputId": "41ddc175-4a5c-4b3d-996d-3a00c306ef63"
      },
      "outputs": [
        {
          "data": {
            "text/plain": [
              "0.8663654164783853"
            ]
          },
          "execution_count": 195,
          "metadata": {},
          "output_type": "execute_result"
        }
      ],
      "source": [
        "correct = sum(y_pred == test.rating)\n",
        "accuracy_limited = correct/len(test)\n",
        "\n",
        "accuracy_limited\n",
        "\n"
      ]
    },
    {
      "cell_type": "markdown",
      "metadata": {
        "id": "YchxOw3Zs5mZ"
      },
      "source": [
        "## Comparison\n",
        "\n",
        "The diffrence in perfomance is so large that the model not limited by the vocabulary does not converge in the default max iteration limit (100). The vocabulary limited model converges in less than 100 iterations.\n",
        "\n",
        "For my local envinronment, fitting the model takes:\n",
        "\n",
        "*   the standard model runs 2m 2s.\n",
        "*   the vocabulary limited model runs 0.5s.\n",
        "\n",
        "So, the vocabulary model is almost 300 times faster.\n",
        "\n",
        "The accuracy drops by (percent)"
      ]
    },
    {
      "cell_type": "code",
      "execution_count": 197,
      "metadata": {
        "colab": {
          "base_uri": "https://localhost:8080/"
        },
        "id": "_-dc-pQBtwE-",
        "outputId": "fbe3b16e-54c9-4e23-b7a3-dd19f73d0a2f"
      },
      "outputs": [
        {
          "data": {
            "text/plain": [
              "7.242078453057191"
            ]
          },
          "execution_count": 197,
          "metadata": {},
          "output_type": "execute_result"
        }
      ],
      "source": [
        "(accuracy - accuracy_limited)/((accuracy+accuracy_limited)/2)*100"
      ]
    },
    {
      "cell_type": "code",
      "execution_count": 198,
      "metadata": {
        "colab": {
          "base_uri": "https://localhost:8080/",
          "height": 297
        },
        "id": "H_1UX9iSSaCl",
        "outputId": "30395389-fce1-4e0e-8bb5-7a4351adb1c3"
      },
      "outputs": [
        {
          "data": {
            "text/plain": [
              "<sklearn.metrics._plot.roc_curve.RocCurveDisplay at 0x7fdd3e4e4f90>"
            ]
          },
          "execution_count": 198,
          "metadata": {},
          "output_type": "execute_result"
        },
        {
          "data": {
            "image/png": "[encoded data removed]",
            "text/plain": [
              "<Figure size 432x288 with 1 Axes>"
            ]
          },
          "metadata": {
            "needs_background": "light"
          },
          "output_type": "display_data"
        }
      ],
      "source": [
        "from sklearn.metrics import RocCurveDisplay\n",
        "\n",
        "fig = RocCurveDisplay.from_estimator(model_all, X_test_all, test.rating, name='LogisticRegression ALL') \n",
        "RocCurveDisplay.from_estimator(model_voc, X_test_voc, test.rating, ax = fig.ax_, name='LogisticRegression VOCABULARY') "
      ]
    },
    {
      "cell_type": "markdown",
      "metadata": {
        "id": "llrkbIAEwaoO"
      },
      "source": [
        "Also, ROC Curve shows AUC score of 0.96 vs 0.83. One way of interpreting AUC is as the probability that the model ranks a random positive example more highly than a random negative example. Where 0.5 score would be given by a random classifier.\n",
        "\n",
        "In my opinion, in this particular example problem, sacricifing the accuracy for the increased perfomance is not worth since the diffrence is still in minutes. However, I would still recognize the vocabulary limited model as relatively good. It's worth remembering that using predefined vocabulary can drastically reduce model fitting time with little sacrifice in accuracy."
      ]
    }
  ],
  "metadata": {
    "colab": {
      "collapsed_sections": [],
      "name": "Assignment_4_without_code.ipynb",
      "provenance": []
    },
    "kernelspec": {
      "display_name": "Python 3",
      "language": "python",
      "name": "python3"
    },
    "language_info": {
      "codemirror_mode": {
        "name": "ipython",
        "version": 3
      },
      "file_extension": ".py",
      "mimetype": "text/x-python",
      "name": "python",
      "nbconvert_exporter": "python",
      "pygments_lexer": "ipython3",
      "version": "3.7.4"
    }
  },
  "nbformat": 4,
  "nbformat_minor": 0
}
