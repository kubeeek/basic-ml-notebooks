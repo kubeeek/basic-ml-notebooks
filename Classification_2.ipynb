{
  "cells": [
    {
      "cell_type": "markdown",
      "metadata": {},
      "source": [
        "# Tweet sentinent analysis - Classification"
      ]
    },
    {
      "cell_type": "code",
      "execution_count": 88,
      "metadata": {
        "colab": {
          "base_uri": "https://localhost:8080/"
        },
        "id": "8ekOrRIvSl5t",
        "outputId": "e7796e42-0cf9-4ae9-da8c-d1f7f5c8743b"
      },
      "outputs": [
        {
          "name": "stdout",
          "output_type": "stream",
          "text": [
            "[nltk_data] Downloading package punkt to /root/nltk_data...\n",
            "[nltk_data]   Package punkt is already up-to-date!\n"
          ]
        }
      ],
      "source": [
        "import pandas as pd\n",
        "import numpy as np\n",
        "import matplotlib.pyplot as plt\n",
        "import string\n",
        "import nltk\n",
        "nltk.download('punkt')\n",
        "from sklearn.linear_model import LogisticRegression\n"
      ]
    },
    {
      "cell_type": "code",
      "execution_count": 89,
      "metadata": {
        "colab": {
          "base_uri": "https://localhost:8080/",
          "height": 206
        },
        "id": "IIMfkYsATJ31",
        "outputId": "086f8166-d3b4-4b97-8351-52f25b212119"
      },
      "outputs": [
        {
          "data": {
            "text/html": [
              "\n",
              "  <div id=\"df-3b83e2df-52f7-4f56-a734-7ae029bdeca5\">\n",
              "    <div class=\"colab-df-container\">\n",
              "      <div>\n",
              "<style scoped>\n",
              "    .dataframe tbody tr th:only-of-type {\n",
              "        vertical-align: middle;\n",
              "    }\n",
              "\n",
              "    .dataframe tbody tr th {\n",
              "        vertical-align: top;\n",
              "    }\n",
              "\n",
              "    .dataframe thead th {\n",
              "        text-align: right;\n",
              "    }\n",
              "</style>\n",
              "<table border=\"1\" class=\"dataframe\">\n",
              "  <thead>\n",
              "    <tr style=\"text-align: right;\">\n",
              "      <th></th>\n",
              "      <th>text</th>\n",
              "      <th>tag</th>\n",
              "    </tr>\n",
              "  </thead>\n",
              "  <tbody>\n",
              "    <tr>\n",
              "      <th>0</th>\n",
              "      <td>Dla mnie faworytem do tytułu będzie Cracovia. ...</td>\n",
              "      <td>0</td>\n",
              "    </tr>\n",
              "    <tr>\n",
              "      <th>1</th>\n",
              "      <td>@anonymized_account @anonymized_account Brawo ...</td>\n",
              "      <td>0</td>\n",
              "    </tr>\n",
              "    <tr>\n",
              "      <th>2</th>\n",
              "      <td>@anonymized_account @anonymized_account Super,...</td>\n",
              "      <td>0</td>\n",
              "    </tr>\n",
              "    <tr>\n",
              "      <th>3</th>\n",
              "      <td>@anonymized_account @anonymized_account Musi. ...</td>\n",
              "      <td>0</td>\n",
              "    </tr>\n",
              "    <tr>\n",
              "      <th>4</th>\n",
              "      <td>Odrzut natychmiastowy, kwaśna mina, mam problem</td>\n",
              "      <td>0</td>\n",
              "    </tr>\n",
              "  </tbody>\n",
              "</table>\n",
              "</div>\n",
              "      <button class=\"colab-df-convert\" onclick=\"convertToInteractive('df-3b83e2df-52f7-4f56-a734-7ae029bdeca5')\"\n",
              "              title=\"Convert this dataframe to an interactive table.\"\n",
              "              style=\"display:none;\">\n",
              "        \n",
              "  <svg xmlns=\"http://www.w3.org/2000/svg\" height=\"24px\"viewBox=\"0 0 24 24\"\n",
              "       width=\"24px\">\n",
              "    <path d=\"M0 0h24v24H0V0z\" fill=\"none\"/>\n",
              "    <path d=\"M18.56 5.44l.94 2.06.94-2.06 2.06-.94-2.06-.94-.94-2.06-.94 2.06-2.06.94zm-11 1L8.5 8.5l.94-2.06 2.06-.94-2.06-.94L8.5 2.5l-.94 2.06-2.06.94zm10 10l.94 2.06.94-2.06 2.06-.94-2.06-.94-.94-2.06-.94 2.06-2.06.94z\"/><path d=\"M17.41 7.96l-1.37-1.37c-.4-.4-.92-.59-1.43-.59-.52 0-1.04.2-1.43.59L10.3 9.45l-7.72 7.72c-.78.78-.78 2.05 0 2.83L4 21.41c.39.39.9.59 1.41.59.51 0 1.02-.2 1.41-.59l7.78-7.78 2.81-2.81c.8-.78.8-2.07 0-2.86zM5.41 20L4 18.59l7.72-7.72 1.47 1.35L5.41 20z\"/>\n",
              "  </svg>\n",
              "      </button>\n",
              "      \n",
              "  <style>\n",
              "    .colab-df-container {\n",
              "      display:flex;\n",
              "      flex-wrap:wrap;\n",
              "      gap: 12px;\n",
              "    }\n",
              "\n",
              "    .colab-df-convert {\n",
              "      background-color: #E8F0FE;\n",
              "      border: none;\n",
              "      border-radius: 50%;\n",
              "      cursor: pointer;\n",
              "      display: none;\n",
              "      fill: #1967D2;\n",
              "      height: 32px;\n",
              "      padding: 0 0 0 0;\n",
              "      width: 32px;\n",
              "    }\n",
              "\n",
              "    .colab-df-convert:hover {\n",
              "      background-color: #E2EBFA;\n",
              "      box-shadow: 0px 1px 2px rgba(60, 64, 67, 0.3), 0px 1px 3px 1px rgba(60, 64, 67, 0.15);\n",
              "      fill: #174EA6;\n",
              "    }\n",
              "\n",
              "    [theme=dark] .colab-df-convert {\n",
              "      background-color: #3B4455;\n",
              "      fill: #D2E3FC;\n",
              "    }\n",
              "\n",
              "    [theme=dark] .colab-df-convert:hover {\n",
              "      background-color: #434B5C;\n",
              "      box-shadow: 0px 1px 3px 1px rgba(0, 0, 0, 0.15);\n",
              "      filter: drop-shadow(0px 1px 2px rgba(0, 0, 0, 0.3));\n",
              "      fill: #FFFFFF;\n",
              "    }\n",
              "  </style>\n",
              "\n",
              "      <script>\n",
              "        const buttonEl =\n",
              "          document.querySelector('#df-3b83e2df-52f7-4f56-a734-7ae029bdeca5 button.colab-df-convert');\n",
              "        buttonEl.style.display =\n",
              "          google.colab.kernel.accessAllowed ? 'block' : 'none';\n",
              "\n",
              "        async function convertToInteractive(key) {\n",
              "          const element = document.querySelector('#df-3b83e2df-52f7-4f56-a734-7ae029bdeca5');\n",
              "          const dataTable =\n",
              "            await google.colab.kernel.invokeFunction('convertToInteractive',\n",
              "                                                     [key], {});\n",
              "          if (!dataTable) return;\n",
              "\n",
              "          const docLinkHtml = 'Like what you see? Visit the ' +\n",
              "            '<a target=\"_blank\" href=https://colab.research.google.com/notebooks/data_table.ipynb>data table notebook</a>'\n",
              "            + ' to learn more about interactive tables.';\n",
              "          element.innerHTML = '';\n",
              "          dataTable['output_type'] = 'display_data';\n",
              "          await google.colab.output.renderOutput(dataTable, element);\n",
              "          const docLink = document.createElement('div');\n",
              "          docLink.innerHTML = docLinkHtml;\n",
              "          element.appendChild(docLink);\n",
              "        }\n",
              "      </script>\n",
              "    </div>\n",
              "  </div>\n",
              "  "
            ],
            "text/plain": [
              "                                                text  tag\n",
              "0  Dla mnie faworytem do tytułu będzie Cracovia. ...    0\n",
              "1  @anonymized_account @anonymized_account Brawo ...    0\n",
              "2  @anonymized_account @anonymized_account Super,...    0\n",
              "3  @anonymized_account @anonymized_account Musi. ...    0\n",
              "4    Odrzut natychmiastowy, kwaśna mina, mam problem    0"
            ]
          },
          "execution_count": 89,
          "metadata": {},
          "output_type": "execute_result"
        }
      ],
      "source": [
        "train_df = pd.read_csv('./train_text.txt', delimiter = \"\\t\", header=None)\n",
        "train_tags_df = pd.read_csv('./train_tags.txt', delimiter = \"\\t\", header=None)\n",
        "\n",
        "stopwords = pd.read_csv('./polish.stopwords.txt', delimiter = \"\\t\", header=None)[0].values.tolist()\n",
        "\n",
        "train_df['tag'] = train_tags_df\n",
        "\n",
        "train_df.columns = ['text', 'tag']\n",
        "\n",
        "test_df = pd.read_csv('./test_text.txt', delimiter = \"\\t\", header=None)\n",
        "test_tags_df = pd.read_csv('./test_tags.txt', delimiter = \"\\t\", header=None)\n",
        "\n",
        "test_df['tag'] = test_tags_df\n",
        "\n",
        "test_df.columns = ['text', 'tag']\n",
        "\n",
        "train_df.head()"
      ]
    },
    {
      "cell_type": "code",
      "execution_count": 90,
      "metadata": {
        "colab": {
          "base_uri": "https://localhost:8080/"
        },
        "id": "G5buCOuG2H3A",
        "outputId": "db0e9b13-1dd9-4864-803d-82008b8e597f"
      },
      "outputs": [
        {
          "name": "stdout",
          "output_type": "stream",
          "text": [
            "851 9190\n",
            "134 866\n"
          ]
        },
        {
          "data": {
            "text/plain": [
              "(2.9823343028874767, 2.1520479253777736)"
            ]
          },
          "execution_count": 90,
          "metadata": {},
          "output_type": "execute_result"
        }
      ],
      "source": [
        "print(sum(train_df['tag'] == 1), sum(train_df['tag'] == 0))\n",
        "print(sum(test_df['tag'] == 1), sum(test_df['tag'] == 0))\n",
        "train_df['tag'].skew(), test_df['tag'].skew()"
      ]
    },
    {
      "cell_type": "code",
      "execution_count": 91,
      "metadata": {
        "colab": {
          "base_uri": "https://localhost:8080/",
          "height": 282
        },
        "id": "M2W-6Vbbjm6l",
        "outputId": "27d94f91-6f1a-4ad2-eeb4-c517318f8b44"
      },
      "outputs": [
        {
          "data": {
            "text/plain": [
              "Text(0.5, 1.0, 'Label class distribution')"
            ]
          },
          "execution_count": 91,
          "metadata": {},
          "output_type": "execute_result"
        },
        {
          "data": {
            "image/png": "[encoded data removed]",
            "text/plain": [
              "<Figure size 432x288 with 1 Axes>"
            ]
          },
          "metadata": {},
          "output_type": "display_data"
        }
      ],
      "source": [
        "plt.pie([sum(train_df['tag'] == 0), sum(train_df['tag'] == 1)], labels=['Negative class', 'Positive class'])\n",
        "plt.title('Label class distribution')"
      ]
    },
    {
      "cell_type": "markdown",
      "metadata": {
        "id": "iv1eltphNCiM"
      },
      "source": [
        "## Introduction\n",
        "\n",
        "The dataset is from http://2019.poleval.pl/index.php/tasks/task6 / http://2019.poleval.pl/. The task there was to distinguish tweets between harmful ones and non-harmful.\n",
        "\n",
        "The dataset contains ``text`` and ``tag``. Tag is the target variable, where 0 means non-harmful and 1 means harmful.\n",
        "\n",
        "The biggest flaw of the dataset is that it is skewed. Amongst 10000 training samples, only 10% of them are actually labeled as harmful. The skew coefficient is 2.98.\n",
        "\n",
        "For testing the model, there is other provided dataset (no need for split) of 1000 samples with the similar skewity and imbalance."
      ]
    },
    {
      "cell_type": "markdown",
      "metadata": {},
      "source": [
        "## Data preparation"
      ]
    },
    {
      "cell_type": "markdown",
      "metadata": {},
      "source": [
        "During tokenization, numbers are removed, but also punctuation, @user mentions, and tokens that are not alphanumerical (like emojis). Ideally, lemmatization and more advanced word stemming would be recommended, but I skipped this step for simplicity.\n",
        "\n",
        "Then CountVectorizer is used."
      ]
    },
    {
      "cell_type": "code",
      "execution_count": 92,
      "metadata": {
        "colab": {
          "base_uri": "https://localhost:8080/"
        },
        "id": "CNDM4XDETkge",
        "outputId": "c2f45859-286f-4910-9566-4dea5796864a"
      },
      "outputs": [
        {
          "name": "stdout",
          "output_type": "stream",
          "text": [
            "Requirement already satisfied: pystempel in /usr/local/lib/python3.7/dist-packages (1.2.0)\n",
            "Requirement already satisfied: tqdm in /usr/local/lib/python3.7/dist-packages (from pystempel) (4.62.3)\n",
            "Requirement already satisfied: sortedcontainers in /usr/local/lib/python3.7/dist-packages (from pystempel) (2.4.0)\n"
          ]
        },
        {
          "name": "stderr",
          "output_type": "stream",
          "text": [
            "Loading: 100%|██████████| 11368252/11368252 [00:12<00:00, 924166.43bytes/s] \n"
          ]
        }
      ],
      "source": [
        "from nltk.tokenize.casual import TweetTokenizer\n",
        "!pip install pystempel\n",
        "import re\n",
        "from stempel import StempelStemmer\n",
        "\n",
        "t = TweetTokenizer()\n",
        "stemmer = StempelStemmer.polimorf()\n",
        "\n",
        "def process_text(row):\n",
        "  sentence=str(row)\n",
        "  sentence = sentence.lower()\n",
        "  sentence=sentence.replace('{html}',\"\") \n",
        "  cleanr = re.compile('<.*?>')\n",
        "  cleantext = re.sub(cleanr, '', sentence)\n",
        "  rem_url=re.sub(r'http\\S+', '',cleantext)\n",
        "  rem_num = re.sub('[0-9]+', '', rem_url)\n",
        "  tokens = t.tokenize(row)\n",
        "  tokens = [w.lower() for w in tokens]\n",
        "  tokens = [stemmer.stem(x) for x in tokens if (x not in string.punctuation and x != \"@anonymized_account\" and \"http\" not in x and x.isnumeric() is False and x.isalpha())]\n",
        "\n",
        "  return ' '.join(map(str, tokens))"
      ]
    },
    {
      "cell_type": "code",
      "execution_count": 93,
      "metadata": {
        "colab": {
          "base_uri": "https://localhost:8080/",
          "height": 206
        },
        "id": "gZHDsbRdYoro",
        "outputId": "f899b077-b41e-48f3-d6c7-5ebc4a50c147"
      },
      "outputs": [
        {
          "data": {
            "text/html": [
              "\n",
              "  <div id=\"df-447db39e-705c-4937-89c8-170211543f5d\">\n",
              "    <div class=\"colab-df-container\">\n",
              "      <div>\n",
              "<style scoped>\n",
              "    .dataframe tbody tr th:only-of-type {\n",
              "        vertical-align: middle;\n",
              "    }\n",
              "\n",
              "    .dataframe tbody tr th {\n",
              "        vertical-align: top;\n",
              "    }\n",
              "\n",
              "    .dataframe thead th {\n",
              "        text-align: right;\n",
              "    }\n",
              "</style>\n",
              "<table border=\"1\" class=\"dataframe\">\n",
              "  <thead>\n",
              "    <tr style=\"text-align: right;\">\n",
              "      <th></th>\n",
              "      <th>text</th>\n",
              "      <th>tag</th>\n",
              "      <th>text_post</th>\n",
              "    </tr>\n",
              "  </thead>\n",
              "  <tbody>\n",
              "    <tr>\n",
              "      <th>0</th>\n",
              "      <td>Dla mnie faworytem do tytułu będzie Cracovia. ...</td>\n",
              "      <td>0</td>\n",
              "      <td>dlativus miąć faworyt dojciec tytuł być cracov...</td>\n",
              "    </tr>\n",
              "    <tr>\n",
              "      <th>1</th>\n",
              "      <td>@anonymized_account @anonymized_account Brawo ...</td>\n",
              "      <td>0</td>\n",
              "      <td>brawo ty daria kibic mój być nativus dobry i zły</td>\n",
              "    </tr>\n",
              "    <tr>\n",
              "      <th>2</th>\n",
              "      <td>@anonymized_account @anonymized_account Super,...</td>\n",
              "      <td>0</td>\n",
              "      <td>super polski premiera składać kwiat nativus gr...</td>\n",
              "    </tr>\n",
              "    <tr>\n",
              "      <th>3</th>\n",
              "      <td>@anonymized_account @anonymized_account Musi. ...</td>\n",
              "      <td>0</td>\n",
              "      <td>muszy inny drogi n mieć</td>\n",
              "    </tr>\n",
              "    <tr>\n",
              "      <th>4</th>\n",
              "      <td>Odrzut natychmiastowy, kwaśna mina, mam problem</td>\n",
              "      <td>0</td>\n",
              "      <td>odrzut natychmiastowy kwaśny mina mieć problem</td>\n",
              "    </tr>\n",
              "  </tbody>\n",
              "</table>\n",
              "</div>\n",
              "      <button class=\"colab-df-convert\" onclick=\"convertToInteractive('df-447db39e-705c-4937-89c8-170211543f5d')\"\n",
              "              title=\"Convert this dataframe to an interactive table.\"\n",
              "              style=\"display:none;\">\n",
              "        \n",
              "  <svg xmlns=\"http://www.w3.org/2000/svg\" height=\"24px\"viewBox=\"0 0 24 24\"\n",
              "       width=\"24px\">\n",
              "    <path d=\"M0 0h24v24H0V0z\" fill=\"none\"/>\n",
              "    <path d=\"M18.56 5.44l.94 2.06.94-2.06 2.06-.94-2.06-.94-.94-2.06-.94 2.06-2.06.94zm-11 1L8.5 8.5l.94-2.06 2.06-.94-2.06-.94L8.5 2.5l-.94 2.06-2.06.94zm10 10l.94 2.06.94-2.06 2.06-.94-2.06-.94-.94-2.06-.94 2.06-2.06.94z\"/><path d=\"M17.41 7.96l-1.37-1.37c-.4-.4-.92-.59-1.43-.59-.52 0-1.04.2-1.43.59L10.3 9.45l-7.72 7.72c-.78.78-.78 2.05 0 2.83L4 21.41c.39.39.9.59 1.41.59.51 0 1.02-.2 1.41-.59l7.78-7.78 2.81-2.81c.8-.78.8-2.07 0-2.86zM5.41 20L4 18.59l7.72-7.72 1.47 1.35L5.41 20z\"/>\n",
              "  </svg>\n",
              "      </button>\n",
              "      \n",
              "  <style>\n",
              "    .colab-df-container {\n",
              "      display:flex;\n",
              "      flex-wrap:wrap;\n",
              "      gap: 12px;\n",
              "    }\n",
              "\n",
              "    .colab-df-convert {\n",
              "      background-color: #E8F0FE;\n",
              "      border: none;\n",
              "      border-radius: 50%;\n",
              "      cursor: pointer;\n",
              "      display: none;\n",
              "      fill: #1967D2;\n",
              "      height: 32px;\n",
              "      padding: 0 0 0 0;\n",
              "      width: 32px;\n",
              "    }\n",
              "\n",
              "    .colab-df-convert:hover {\n",
              "      background-color: #E2EBFA;\n",
              "      box-shadow: 0px 1px 2px rgba(60, 64, 67, 0.3), 0px 1px 3px 1px rgba(60, 64, 67, 0.15);\n",
              "      fill: #174EA6;\n",
              "    }\n",
              "\n",
              "    [theme=dark] .colab-df-convert {\n",
              "      background-color: #3B4455;\n",
              "      fill: #D2E3FC;\n",
              "    }\n",
              "\n",
              "    [theme=dark] .colab-df-convert:hover {\n",
              "      background-color: #434B5C;\n",
              "      box-shadow: 0px 1px 3px 1px rgba(0, 0, 0, 0.15);\n",
              "      filter: drop-shadow(0px 1px 2px rgba(0, 0, 0, 0.3));\n",
              "      fill: #FFFFFF;\n",
              "    }\n",
              "  </style>\n",
              "\n",
              "      <script>\n",
              "        const buttonEl =\n",
              "          document.querySelector('#df-447db39e-705c-4937-89c8-170211543f5d button.colab-df-convert');\n",
              "        buttonEl.style.display =\n",
              "          google.colab.kernel.accessAllowed ? 'block' : 'none';\n",
              "\n",
              "        async function convertToInteractive(key) {\n",
              "          const element = document.querySelector('#df-447db39e-705c-4937-89c8-170211543f5d');\n",
              "          const dataTable =\n",
              "            await google.colab.kernel.invokeFunction('convertToInteractive',\n",
              "                                                     [key], {});\n",
              "          if (!dataTable) return;\n",
              "\n",
              "          const docLinkHtml = 'Like what you see? Visit the ' +\n",
              "            '<a target=\"_blank\" href=https://colab.research.google.com/notebooks/data_table.ipynb>data table notebook</a>'\n",
              "            + ' to learn more about interactive tables.';\n",
              "          element.innerHTML = '';\n",
              "          dataTable['output_type'] = 'display_data';\n",
              "          await google.colab.output.renderOutput(dataTable, element);\n",
              "          const docLink = document.createElement('div');\n",
              "          docLink.innerHTML = docLinkHtml;\n",
              "          element.appendChild(docLink);\n",
              "        }\n",
              "      </script>\n",
              "    </div>\n",
              "  </div>\n",
              "  "
            ],
            "text/plain": [
              "                                                text  ...                                          text_post\n",
              "0  Dla mnie faworytem do tytułu będzie Cracovia. ...  ...  dlativus miąć faworyt dojciec tytuł być cracov...\n",
              "1  @anonymized_account @anonymized_account Brawo ...  ...   brawo ty daria kibic mój być nativus dobry i zły\n",
              "2  @anonymized_account @anonymized_account Super,...  ...  super polski premiera składać kwiat nativus gr...\n",
              "3  @anonymized_account @anonymized_account Musi. ...  ...                            muszy inny drogi n mieć\n",
              "4    Odrzut natychmiastowy, kwaśna mina, mam problem  ...     odrzut natychmiastowy kwaśny mina mieć problem\n",
              "\n",
              "[5 rows x 3 columns]"
            ]
          },
          "execution_count": 93,
          "metadata": {},
          "output_type": "execute_result"
        }
      ],
      "source": [
        "train_df[\"text_post\"] = train_df[\"text\"].apply(process)\n",
        "\n",
        "train_df.head()"
      ]
    },
    {
      "cell_type": "markdown",
      "metadata": {},
      "source": [
        "## Training"
      ]
    },
    {
      "cell_type": "code",
      "execution_count": 94,
      "metadata": {
        "id": "J6l2SnX6Y4BM"
      },
      "outputs": [],
      "source": [
        "from sklearn.feature_extraction.text import CountVectorizer\n",
        "from sklearn.feature_extraction.text import TfidfVectorizer\n",
        "\n",
        "vectorizer = CountVectorizer()\n",
        "\n",
        "X_train = vectorizer.fit_transform(train_df.text_post)\n",
        "y_train = train_df.tag\n",
        "\n",
        "model = LogisticRegression(max_iter=10000).fit(X=X_train, y=y_train)"
      ]
    },
    {
      "cell_type": "markdown",
      "metadata": {},
      "source": [
        "### The top 10 of most significants words"
      ]
    },
    {
      "cell_type": "code",
      "execution_count": 95,
      "metadata": {
        "colab": {
          "base_uri": "https://localhost:8080/"
        },
        "id": "asBPEnkGe4n3",
        "outputId": "82af9f3f-664d-42c4-e066-e3a2f7927e04"
      },
      "outputs": [
        {
          "data": {
            "text/plain": [
              "([(-1.3245198332674348, 'duży'),\n",
              "  (-1.2304873104430514, 'sędzia'),\n",
              "  (-1.0919099051644323, 'pytanie'),\n",
              "  (-1.0085447389592277, 'choć'),\n",
              "  (-0.9513152938700037, 'wszystek'),\n",
              "  (-0.9456378610507146, 'liga'),\n",
              "  (-0.9153360258668874, 'dzisiać'),\n",
              "  (-0.9072597193003968, 'meczeć'),\n",
              "  (-0.8992261279876894, 'fajny'),\n",
              "  (-0.889078112826876, 'kilka')],\n",
              " [(1.9679937719755323, 'pisdzielstwo'),\n",
              "  (1.995498072582821, 'śmierdzieć'),\n",
              "  (2.007981103842983, 'idiota'),\n",
              "  (2.11507465912758, 'pisowski'),\n",
              "  (2.269983518616505, 'kutas'),\n",
              "  (2.312466853260933, 'mózg'),\n",
              "  (2.510318396228816, 'pedofil'),\n",
              "  (2.6288054271948518, 'debil'),\n",
              "  (2.6644460405153527, 'gnój'),\n",
              "  (2.758449317575129, 'pajac')])"
            ]
          },
          "execution_count": 95,
          "metadata": {},
          "output_type": "execute_result"
        }
      ],
      "source": [
        "zipped = list(zip(model.coef_.flatten(), vectorizer.get_feature_names_out()))\n",
        "\n",
        "sortedd = sorted(zipped, key= lambda x: x[0])\n",
        "\n",
        "# not significant, the most significant/hateful\n",
        "sortedd[:10], sortedd[-10:]"
      ]
    },
    {
      "cell_type": "markdown",
      "metadata": {},
      "source": [
        "## Predicting"
      ]
    },
    {
      "cell_type": "markdown",
      "metadata": {},
      "source": [
        "### Score of the model"
      ]
    },
    {
      "cell_type": "code",
      "execution_count": 96,
      "metadata": {
        "colab": {
          "base_uri": "https://localhost:8080/"
        },
        "id": "HIcYVIU9hyBM",
        "outputId": "8d628fb5-1aef-4268-ea04-8c54a1a67be7"
      },
      "outputs": [
        {
          "data": {
            "text/plain": [
              "(0.881, 0.5685860535658888, 0.1417910447761194)"
            ]
          },
          "execution_count": 96,
          "metadata": {},
          "output_type": "execute_result"
        }
      ],
      "source": [
        "from sklearn.metrics import recall_score\n",
        "from sklearn.metrics import balanced_accuracy_score\n",
        "\n",
        "test_df[\"text_post\"] = test_df[\"text\"].apply(process)\n",
        "\n",
        "X_test = vectorizer.transform(test_df.text_post)\n",
        "y_test = test_df.tag\n",
        "\n",
        "y_pred = model.predict(X_test)\n",
        "\n",
        "# metrics\n",
        "model.score(X_test, y_test), balanced_accuracy_score(y_test, y_pred), recall_score(y_test, y_pred)"
      ]
    },
    {
      "cell_type": "markdown",
      "metadata": {},
      "source": [
        "### Confusion matrix"
      ]
    },
    {
      "cell_type": "code",
      "execution_count": 97,
      "metadata": {
        "colab": {
          "base_uri": "https://localhost:8080/",
          "height": 714
        },
        "id": "Ge2TNVUZP5N8",
        "outputId": "ac1700ad-edc4-4251-f6cf-1e4f4e1db80f"
      },
      "outputs": [
        {
          "name": "stdout",
          "output_type": "stream",
          "text": [
            "              precision    recall  f1-score   support\n",
            "\n",
            "           0       0.88      1.00      0.94       866\n",
            "           1       0.83      0.14      0.24       134\n",
            "\n",
            "    accuracy                           0.88      1000\n",
            "   macro avg       0.85      0.57      0.59      1000\n",
            "weighted avg       0.87      0.88      0.84      1000\n",
            "\n"
          ]
        },
        {
          "data": {
            "text/plain": [
              "<sklearn.metrics._plot.roc_curve.RocCurveDisplay at 0x7f7c59307110>"
            ]
          },
          "execution_count": 97,
          "metadata": {},
          "output_type": "execute_result"
        },
        {
          "data": {
            "image/png": "[encoded data removed]",
            "text/plain": [
              "<Figure size 432x288 with 2 Axes>"
            ]
          },
          "metadata": {
            "needs_background": "light"
          },
          "output_type": "display_data"
        },
        {
          "data": {
            "image/png": "[encoded data removed]",
            "text/plain": [
              "<Figure size 432x288 with 1 Axes>"
            ]
          },
          "metadata": {
            "needs_background": "light"
          },
          "output_type": "display_data"
        }
      ],
      "source": [
        "from sklearn.metrics import confusion_matrix\n",
        "from sklearn.metrics import ConfusionMatrixDisplay, RocCurveDisplay\n",
        "from sklearn.metrics import classification_report\n",
        "\n",
        "# metrics\n",
        "print(classification_report(y_test, y_pred))\n",
        "ConfusionMatrixDisplay.from_predictions(y_test, y_pred)\n",
        "RocCurveDisplay.from_predictions(y_test, y_pred)"
      ]
    },
    {
      "cell_type": "markdown",
      "metadata": {
        "id": "X_pLQShpQXOH"
      },
      "source": [
        "### Interpretation of the metrics\n",
        "\n",
        "The accuracy may be not the best metric for the imbalanced datasets. Since, in this particular case:\n",
        "\n",
        "The testing set contains "
      ]
    },
    {
      "cell_type": "code",
      "execution_count": 98,
      "metadata": {
        "colab": {
          "base_uri": "https://localhost:8080/"
        },
        "id": "wTlgBDUKRC4n",
        "outputId": "0e4813c9-3fdf-4ad7-9d4d-5926a78fb525"
      },
      "outputs": [
        {
          "name": "stdout",
          "output_type": "stream",
          "text": [
            "total:  1000\n",
            "positive samples:  134\n",
            "negative samples:  866\n"
          ]
        },
        {
          "data": {
            "text/plain": [
              "(None, None, None)"
            ]
          },
          "execution_count": 98,
          "metadata": {},
          "output_type": "execute_result"
        }
      ],
      "source": [
        "print('total: ', len(test_df)), print('positive samples: ', sum(test_df['tag'] == 1)), print('negative samples: ', sum(test_df['tag'] == 0))"
      ]
    },
    {
      "cell_type": "markdown",
      "metadata": {
        "id": "JgafPvtwRWaG"
      },
      "source": [
        "If the model classify all samples as the negative ones, we still get 866/1000 so 0.866 accuracy.\n",
        "\n",
        "Above I provided additonal metrics.\n",
        "\n",
        "#### ROC AUC curve\n",
        "\n",
        "As seen on the plot, AUC is 0.55. We could plot additional diagonal (45 degree) line which would represent a \"random classifier\" (so the 0.5 AUC score). As we can see, our logistic regression model is just slighty above the hypothethical diagonal line, as it performs slighty better than a random classifier.\n",
        "\n",
        "\n",
        "#### Confusion matrix\n",
        "\n",
        "It is pretty self explanatory, only 15 samples were classified true positives and 119 false negatives. Here we can see, how bad the classifier really is. \n",
        "\n",
        "Recall and precision are calculated from the confusion matrix data.\n",
        "\n",
        "#### Recall and precision\n",
        "\n",
        "Recall is the metric on which we should focus. As on sklearn docs:\n",
        "> The recall is the ratio tp / (tp + fn) where tp is the number of true positives and fn the number of false negatives. The recall is intuitively the ability of the classifier to find all the positive samples.\n",
        "\n",
        "> The best value is 1 and the worst value is 0.\n",
        "\n",
        "If that's so, then in this particular case, recall is the most important metric because not detecting harmful tweet \"costs\" us more than labeling non-harmful tweet as harmful.\n",
        "\n",
        "Recall is 0.11, so it's not the best."
      ]
    },
    {
      "cell_type": "markdown",
      "metadata": {},
      "source": [
        "## Multinomial Naive Bayes Classifier\n",
        "\n",
        "I could find out a way to improve the perfomance of the model. We will use a Multinomial Naive Bayes Classifier and before that we will perform over-sampling of the minority class. The over-sampling is only applied to the training dataset."
      ]
    },
    {
      "cell_type": "code",
      "execution_count": 99,
      "metadata": {
        "id": "QsTDm8V8j2V-"
      },
      "outputs": [],
      "source": [
        "from imblearn.pipeline import Pipeline, make_pipeline\n",
        "from sklearn.naive_bayes import MultinomialNB\n",
        "from imblearn.over_sampling import SMOTE\n"
      ]
    },
    {
      "cell_type": "markdown",
      "metadata": {},
      "source": [
        "### Pipeline creation"
      ]
    },
    {
      "cell_type": "code",
      "execution_count": 100,
      "metadata": {
        "id": "ofIDzW1WnZ_R"
      },
      "outputs": [],
      "source": [
        "textclassifier =Pipeline([\n",
        "  ('vect', TfidfVectorizer(max_features=1500, stop_words=stopwords)),\n",
        "  ('smote', SMOTE(sampling_strategy='minority', random_state=12)),\n",
        "  ('mnb', MultinomialNB())\n",
        "])"
      ]
    },
    {
      "cell_type": "markdown",
      "metadata": {},
      "source": [
        "### Training"
      ]
    },
    {
      "cell_type": "code",
      "execution_count": 101,
      "metadata": {
        "colab": {
          "base_uri": "https://localhost:8080/"
        },
        "id": "w2kga8iinb0E",
        "outputId": "61828fc2-9686-4bbf-fa12-f9d1ed2055af"
      },
      "outputs": [
        {
          "data": {
            "text/plain": [
              "Pipeline(steps=[('vect',\n",
              "                 TfidfVectorizer(max_features=1500,\n",
              "                                 stop_words=['a', 'aby', 'ach', 'acz',\n",
              "                                             'aczkolwiek', 'aj', 'albo', 'ale',\n",
              "                                             'alez', 'ależ', 'ani', 'az', 'aż',\n",
              "                                             'bardziej', 'bardzo', 'beda',\n",
              "                                             'bedzie', 'bez', 'deda', 'będą',\n",
              "                                             'bede', 'będę', 'będzie', 'bo',\n",
              "                                             'bowiem', 'by', 'byc', 'być',\n",
              "                                             'byl', 'byla', ...])),\n",
              "                ('smote', SMOTE(random_state=12, sampling_strategy='minority')),\n",
              "                ('mnb', MultinomialNB())])"
            ]
          },
          "execution_count": 101,
          "metadata": {},
          "output_type": "execute_result"
        }
      ],
      "source": [
        "textclassifier.fit(train_df.text_post, y_train)"
      ]
    },
    {
      "cell_type": "markdown",
      "metadata": {},
      "source": [
        "### Predicting"
      ]
    },
    {
      "cell_type": "markdown",
      "metadata": {},
      "source": [
        "#### Score"
      ]
    },
    {
      "cell_type": "code",
      "execution_count": 102,
      "metadata": {
        "colab": {
          "base_uri": "https://localhost:8080/"
        },
        "id": "xEV6EeFLn-j7",
        "outputId": "ad908925-53d2-45d2-c434-89cb4ed8d225"
      },
      "outputs": [
        {
          "data": {
            "text/plain": [
              "(0.783, 0.7075505842611423, 0.6044776119402985)"
            ]
          },
          "execution_count": 102,
          "metadata": {},
          "output_type": "execute_result"
        }
      ],
      "source": [
        "y_pred = textclassifier.predict(test_df.text_post)\n",
        "\n",
        "textclassifier.score(test_df.text_post, y_test), balanced_accuracy_score(y_test, y_pred), recall_score(y_test, y_pred)"
      ]
    },
    {
      "cell_type": "markdown",
      "metadata": {},
      "source": [
        "#### Confusion matrix"
      ]
    },
    {
      "cell_type": "code",
      "execution_count": 103,
      "metadata": {
        "colab": {
          "base_uri": "https://localhost:8080/",
          "height": 718
        },
        "id": "Pwt8AuZ4pPOo",
        "outputId": "c6b08890-eb85-410f-ec22-04823a3c0f84"
      },
      "outputs": [
        {
          "name": "stdout",
          "output_type": "stream",
          "text": [
            "              precision    recall  f1-score   support\n",
            "\n",
            "           0       0.93      0.81      0.87       866\n",
            "           1       0.33      0.60      0.43       134\n",
            "\n",
            "    accuracy                           0.78      1000\n",
            "   macro avg       0.63      0.71      0.65      1000\n",
            "weighted avg       0.85      0.78      0.81      1000\n",
            "\n"
          ]
        },
        {
          "data": {
            "text/plain": [
              "<sklearn.metrics._plot.roc_curve.RocCurveDisplay at 0x7f7c59931a50>"
            ]
          },
          "execution_count": 103,
          "metadata": {},
          "output_type": "execute_result"
        },
        {
          "data": {
            "image/png": "[encoded data removed]",
            "text/plain": [
              "<Figure size 432x288 with 2 Axes>"
            ]
          },
          "metadata": {
            "needs_background": "light"
          },
          "output_type": "display_data"
        },
        {
          "data": {
            "image/png": "[encoded data removed]",
            "text/plain": [
              "<Figure size 432x288 with 1 Axes>"
            ]
          },
          "metadata": {
            "needs_background": "light"
          },
          "output_type": "display_data"
        }
      ],
      "source": [
        "from sklearn.metrics import ConfusionMatrixDisplay\n",
        "from sklearn.metrics import classification_report\n",
        "from sklearn.metrics import RocCurveDisplay\n",
        "\n",
        "# metrics\n",
        "print(classification_report(y_test, y_pred))\n",
        "ConfusionMatrixDisplay.from_predictions(y_test, y_pred)\n",
        "RocCurveDisplay.from_predictions(y_test, y_pred)\n"
      ]
    },
    {
      "cell_type": "code",
      "execution_count": 104,
      "metadata": {
        "id": "ZuFkUnqAgbWc"
      },
      "outputs": [],
      "source": [
        "X_res, y_res = SMOTE(sampling_strategy='minority', random_state=12).fit_resample(TfidfVectorizer().fit_transform(train_df.text_post), y_train)"
      ]
    },
    {
      "cell_type": "code",
      "execution_count": 105,
      "metadata": {
        "colab": {
          "base_uri": "https://localhost:8080/"
        },
        "id": "vbpILP9kghDL",
        "outputId": "19bf392a-907e-4035-f3ae-514e5bada397"
      },
      "outputs": [
        {
          "data": {
            "text/plain": [
              "(0.0, Counter({0: 9190, 1: 9190}), Counter({0: 9190, 1: 851}))"
            ]
          },
          "execution_count": 105,
          "metadata": {},
          "output_type": "execute_result"
        }
      ],
      "source": [
        "from collections import Counter\n",
        "\n",
        "y_res.skew(), Counter(y_res), Counter(y_train) # to show the effect of oversampling, now the resampled dataset contains way more samples labeled as positive than in original dataset and its skew now is 0"
      ]
    },
    {
      "cell_type": "markdown",
      "metadata": {
        "id": "2ccxv1MLi58L"
      },
      "source": [
        "## Summary\n",
        "\n",
        "There is a significant increase in recall score after applying oversampling and MNB (I tested LogisticRegression as well. It got better performance after oversampling, however, still worse than MNB). Decision trees were also tested and they performed worse than MNB.\n",
        "\n",
        "Just analysis of the confusion matrix gives us insight that the new model correctly labels more than a half actually harmful tweets.\n",
        "\n",
        "Recall increased from 0.11 previously to 0.60.\n",
        "\n",
        "AUC score increased to 0.77 which is considered \"decent\". Training set got a score of 0.9 AUC.\n",
        "\n",
        "So due to that, I still think poor perfomance of the model is related to the dataset imbalance. The approach in this notebook may be just too simple for this problem. However, I am still not satisfified by the model perfomance and I wouldn't recognize it as \"good\" personally. \n",
        "\n",
        "Stemming and/or lemmization of the words is a challenge itself, because while there are ready and easy to use libraries for the English language - the Polish language is not so well supported. The stemming library that I used sometimes gives strange results (like replacing a person's name with something else).\n",
        "\n",
        "On the other hand, we can think about what is a harmful/hate speech? Is it well defined or interpretation of this term comes to an invididual? In the end, all tweets in this dataset had to be labeled by some human. While for one, the tweet may be offensive and harmful, the other may view it as non-harmful. While perceived by one as hateful, it does mean the tweet is actually hateful.\n",
        "\n",
        "I conclude this notebook and exercise as finished since I can't increase perfomance of the model anymore. Now we can see, how skewity can change our model and why we should not rely just at the accuracy score itself.\n",
        "\n",
        "In a contrast to Amazon Reviews dataset, where accuracy/AUC score (in a exercise we talked about in class) was better, the people on twitter does not care about proper grammar as in Amazon reviews. The twitter speech is less formal and all of this surely has impact on the model perfomance."
      ]
    }
  ],
  "metadata": {
    "colab": {
      "collapsed_sections": [],
      "name": "Untitled1.ipynb",
      "provenance": []
    },
    "kernelspec": {
      "display_name": "Python 3",
      "name": "python3"
    },
    "language_info": {
      "name": "python"
    }
  },
  "nbformat": 4,
  "nbformat_minor": 0
}
